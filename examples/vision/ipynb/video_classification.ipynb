{
  "cells": [
    {
      "cell_type": "markdown",
      "metadata": {
        "id": "YmROihmRwGKO"
      },
      "source": [
        "# Video Classification with a CNN-RNN Architecture\n",
        "\n",
        "**Author:** [Sayak Paul](https://twitter.com/RisingSayak)<br>\n",
        "**Date created:** 2021/05/28<br>\n",
        "**Last modified:** 2023/12/08<br>\n",
        "**Description:** Training a video classifier with transfer learning and a recurrent model on the UCF101 dataset."
      ]
    },
    {
      "cell_type": "markdown",
      "metadata": {
        "id": "-l-llycYwGKQ"
      },
      "source": [
        "This example demonstrates video classification, an important use-case with\n",
        "applications in recommendations, security, and so on.\n",
        "We will be using the [UCF101 dataset](https://www.crcv.ucf.edu/data/UCF101.php)\n",
        "to build our video classifier. The dataset consists of videos categorized into different\n",
        "actions, like cricket shot, punching, biking, etc. This dataset is commonly used to\n",
        "build action recognizers, which are an application of video classification.\n",
        "\n",
        "A video consists of an ordered sequence of frames. Each frame contains *spatial*\n",
        "information, and the sequence of those frames contains *temporal* information. To model\n",
        "both of these aspects, we use a hybrid architecture that consists of convolutions\n",
        "(for spatial processing) as well as recurrent layers (for temporal processing).\n",
        "Specifically, we'll use a Convolutional Neural Network (CNN) and a Recurrent Neural\n",
        "Network (RNN) consisting of [GRU layers](https://keras.io/api/layers/recurrent_layers/gru/).\n",
        "This kind of hybrid architecture is popularly known as a **CNN-RNN**.\n",
        "\n",
        "This example requires TensorFlow 2.5 or higher, as well as TensorFlow Docs, which can be\n",
        "installed using the following command:"
      ]
    },
    {
      "cell_type": "code",
      "execution_count": 1,
      "metadata": {
        "colab": {
          "base_uri": "https://localhost:8080/"
        },
        "id": "M4VwWI2DwGKR",
        "outputId": "aaa9021c-2433-48b5-8b76-30dcf1758e5f"
      },
      "outputs": [
        {
          "output_type": "stream",
          "name": "stdout",
          "text": [
            "  Preparing metadata (setup.py) ... \u001b[?25l\u001b[?25hdone\n",
            "  Building wheel for tensorflow-docs (setup.py) ... \u001b[?25l\u001b[?25hdone\n"
          ]
        }
      ],
      "source": [
        "!pip install -q git+https://github.com/tensorflow/docs"
      ]
    },
    {
      "cell_type": "markdown",
      "metadata": {
        "id": "b6t27DuVwGKS"
      },
      "source": [
        "## Data collection\n",
        "\n",
        "In order to keep the runtime of this example relatively short, we will be using a\n",
        "subsampled version of the original UCF101 dataset. You can refer to\n",
        "[this notebook](https://colab.research.google.com/github/sayakpaul/Action-Recognition-in-TensorFlow/blob/main/Data_Preparation_UCF101.ipynb)\n",
        "to know how the subsampling was done."
      ]
    },
    {
      "cell_type": "code",
      "execution_count": 2,
      "metadata": {
        "id": "cmNnwvXOwGKS"
      },
      "outputs": [],
      "source": [
        "!!wget -q https://github.com/sayakpaul/Action-Recognition-in-TensorFlow/releases/download/v1.0.0/ucf101_top5.tar.gz\n",
        "!tar xf ucf101_top5.tar.gz"
      ]
    },
    {
      "cell_type": "markdown",
      "metadata": {
        "id": "yZye-tarwGKS"
      },
      "source": [
        "## Setup"
      ]
    },
    {
      "cell_type": "code",
      "execution_count": 3,
      "metadata": {
        "id": "uQjMDxEUwGKT"
      },
      "outputs": [],
      "source": [
        "import os\n",
        "\n",
        "import keras\n",
        "from imutils import paths\n",
        "\n",
        "import matplotlib.pyplot as plt\n",
        "import pandas as pd\n",
        "import numpy as np\n",
        "import imageio\n",
        "import cv2\n",
        "from IPython.display import Image"
      ]
    },
    {
      "cell_type": "markdown",
      "metadata": {
        "id": "MCZgp3SNwGKT"
      },
      "source": [
        "## Define hyperparameters"
      ]
    },
    {
      "cell_type": "code",
      "execution_count": 4,
      "metadata": {
        "id": "3JSoUCa-wGKT"
      },
      "outputs": [],
      "source": [
        "IMG_SIZE = 224\n",
        "BATCH_SIZE = 64\n",
        "EPOCHS = 10\n",
        "\n",
        "MAX_SEQ_LENGTH = 20\n",
        "NUM_FEATURES = 2048"
      ]
    },
    {
      "cell_type": "markdown",
      "metadata": {
        "id": "IMCI-jPHwGKT"
      },
      "source": [
        "## Data preparation"
      ]
    },
    {
      "cell_type": "code",
      "execution_count": 5,
      "metadata": {
        "colab": {
          "base_uri": "https://localhost:8080/",
          "height": 552
        },
        "id": "t8lQu-CqwGKT",
        "outputId": "ca30d61b-b4f2-4842-97f6-54e33fd47f34"
      },
      "outputs": [
        {
          "output_type": "stream",
          "name": "stdout",
          "text": [
            "Total videos for training: 594\n",
            "Total videos for testing: 224\n"
          ]
        },
        {
          "output_type": "execute_result",
          "data": {
            "text/plain": [
              "                     video_name           tag\n",
              "167  v_PlayingCello_g15_c05.avi  PlayingCello\n",
              "550   v_TennisSwing_g18_c05.avi   TennisSwing\n",
              "483   v_TennisSwing_g09_c01.avi   TennisSwing\n",
              "393  v_ShavingBeard_g13_c04.avi  ShavingBeard\n",
              "448  v_ShavingBeard_g21_c06.avi  ShavingBeard\n",
              "144  v_PlayingCello_g11_c07.avi  PlayingCello\n",
              "512   v_TennisSwing_g13_c02.avi   TennisSwing\n",
              "17    v_CricketShot_g10_c04.avi   CricketShot\n",
              "219  v_PlayingCello_g23_c03.avi  PlayingCello\n",
              "569   v_TennisSwing_g21_c06.avi   TennisSwing"
            ],
            "text/html": [
              "\n",
              "  <div id=\"df-053c789b-720e-4a63-b420-e75550c9944d\" class=\"colab-df-container\">\n",
              "    <div>\n",
              "<style scoped>\n",
              "    .dataframe tbody tr th:only-of-type {\n",
              "        vertical-align: middle;\n",
              "    }\n",
              "\n",
              "    .dataframe tbody tr th {\n",
              "        vertical-align: top;\n",
              "    }\n",
              "\n",
              "    .dataframe thead th {\n",
              "        text-align: right;\n",
              "    }\n",
              "</style>\n",
              "<table border=\"1\" class=\"dataframe\">\n",
              "  <thead>\n",
              "    <tr style=\"text-align: right;\">\n",
              "      <th></th>\n",
              "      <th>video_name</th>\n",
              "      <th>tag</th>\n",
              "    </tr>\n",
              "  </thead>\n",
              "  <tbody>\n",
              "    <tr>\n",
              "      <th>167</th>\n",
              "      <td>v_PlayingCello_g15_c05.avi</td>\n",
              "      <td>PlayingCello</td>\n",
              "    </tr>\n",
              "    <tr>\n",
              "      <th>550</th>\n",
              "      <td>v_TennisSwing_g18_c05.avi</td>\n",
              "      <td>TennisSwing</td>\n",
              "    </tr>\n",
              "    <tr>\n",
              "      <th>483</th>\n",
              "      <td>v_TennisSwing_g09_c01.avi</td>\n",
              "      <td>TennisSwing</td>\n",
              "    </tr>\n",
              "    <tr>\n",
              "      <th>393</th>\n",
              "      <td>v_ShavingBeard_g13_c04.avi</td>\n",
              "      <td>ShavingBeard</td>\n",
              "    </tr>\n",
              "    <tr>\n",
              "      <th>448</th>\n",
              "      <td>v_ShavingBeard_g21_c06.avi</td>\n",
              "      <td>ShavingBeard</td>\n",
              "    </tr>\n",
              "    <tr>\n",
              "      <th>144</th>\n",
              "      <td>v_PlayingCello_g11_c07.avi</td>\n",
              "      <td>PlayingCello</td>\n",
              "    </tr>\n",
              "    <tr>\n",
              "      <th>512</th>\n",
              "      <td>v_TennisSwing_g13_c02.avi</td>\n",
              "      <td>TennisSwing</td>\n",
              "    </tr>\n",
              "    <tr>\n",
              "      <th>17</th>\n",
              "      <td>v_CricketShot_g10_c04.avi</td>\n",
              "      <td>CricketShot</td>\n",
              "    </tr>\n",
              "    <tr>\n",
              "      <th>219</th>\n",
              "      <td>v_PlayingCello_g23_c03.avi</td>\n",
              "      <td>PlayingCello</td>\n",
              "    </tr>\n",
              "    <tr>\n",
              "      <th>569</th>\n",
              "      <td>v_TennisSwing_g21_c06.avi</td>\n",
              "      <td>TennisSwing</td>\n",
              "    </tr>\n",
              "  </tbody>\n",
              "</table>\n",
              "</div>\n",
              "    <div class=\"colab-df-buttons\">\n",
              "\n",
              "  <div class=\"colab-df-container\">\n",
              "    <button class=\"colab-df-convert\" onclick=\"convertToInteractive('df-053c789b-720e-4a63-b420-e75550c9944d')\"\n",
              "            title=\"Convert this dataframe to an interactive table.\"\n",
              "            style=\"display:none;\">\n",
              "\n",
              "  <svg xmlns=\"http://www.w3.org/2000/svg\" height=\"24px\" viewBox=\"0 -960 960 960\">\n",
              "    <path d=\"M120-120v-720h720v720H120Zm60-500h600v-160H180v160Zm220 220h160v-160H400v160Zm0 220h160v-160H400v160ZM180-400h160v-160H180v160Zm440 0h160v-160H620v160ZM180-180h160v-160H180v160Zm440 0h160v-160H620v160Z\"/>\n",
              "  </svg>\n",
              "    </button>\n",
              "\n",
              "  <style>\n",
              "    .colab-df-container {\n",
              "      display:flex;\n",
              "      gap: 12px;\n",
              "    }\n",
              "\n",
              "    .colab-df-convert {\n",
              "      background-color: #E8F0FE;\n",
              "      border: none;\n",
              "      border-radius: 50%;\n",
              "      cursor: pointer;\n",
              "      display: none;\n",
              "      fill: #1967D2;\n",
              "      height: 32px;\n",
              "      padding: 0 0 0 0;\n",
              "      width: 32px;\n",
              "    }\n",
              "\n",
              "    .colab-df-convert:hover {\n",
              "      background-color: #E2EBFA;\n",
              "      box-shadow: 0px 1px 2px rgba(60, 64, 67, 0.3), 0px 1px 3px 1px rgba(60, 64, 67, 0.15);\n",
              "      fill: #174EA6;\n",
              "    }\n",
              "\n",
              "    .colab-df-buttons div {\n",
              "      margin-bottom: 4px;\n",
              "    }\n",
              "\n",
              "    [theme=dark] .colab-df-convert {\n",
              "      background-color: #3B4455;\n",
              "      fill: #D2E3FC;\n",
              "    }\n",
              "\n",
              "    [theme=dark] .colab-df-convert:hover {\n",
              "      background-color: #434B5C;\n",
              "      box-shadow: 0px 1px 3px 1px rgba(0, 0, 0, 0.15);\n",
              "      filter: drop-shadow(0px 1px 2px rgba(0, 0, 0, 0.3));\n",
              "      fill: #FFFFFF;\n",
              "    }\n",
              "  </style>\n",
              "\n",
              "    <script>\n",
              "      const buttonEl =\n",
              "        document.querySelector('#df-053c789b-720e-4a63-b420-e75550c9944d button.colab-df-convert');\n",
              "      buttonEl.style.display =\n",
              "        google.colab.kernel.accessAllowed ? 'block' : 'none';\n",
              "\n",
              "      async function convertToInteractive(key) {\n",
              "        const element = document.querySelector('#df-053c789b-720e-4a63-b420-e75550c9944d');\n",
              "        const dataTable =\n",
              "          await google.colab.kernel.invokeFunction('convertToInteractive',\n",
              "                                                    [key], {});\n",
              "        if (!dataTable) return;\n",
              "\n",
              "        const docLinkHtml = 'Like what you see? Visit the ' +\n",
              "          '<a target=\"_blank\" href=https://colab.research.google.com/notebooks/data_table.ipynb>data table notebook</a>'\n",
              "          + ' to learn more about interactive tables.';\n",
              "        element.innerHTML = '';\n",
              "        dataTable['output_type'] = 'display_data';\n",
              "        await google.colab.output.renderOutput(dataTable, element);\n",
              "        const docLink = document.createElement('div');\n",
              "        docLink.innerHTML = docLinkHtml;\n",
              "        element.appendChild(docLink);\n",
              "      }\n",
              "    </script>\n",
              "  </div>\n",
              "\n",
              "\n",
              "<div id=\"df-b419fc4b-5294-43b5-9ba1-6fa25e6da6ec\">\n",
              "  <button class=\"colab-df-quickchart\" onclick=\"quickchart('df-b419fc4b-5294-43b5-9ba1-6fa25e6da6ec')\"\n",
              "            title=\"Suggest charts\"\n",
              "            style=\"display:none;\">\n",
              "\n",
              "<svg xmlns=\"http://www.w3.org/2000/svg\" height=\"24px\"viewBox=\"0 0 24 24\"\n",
              "     width=\"24px\">\n",
              "    <g>\n",
              "        <path d=\"M19 3H5c-1.1 0-2 .9-2 2v14c0 1.1.9 2 2 2h14c1.1 0 2-.9 2-2V5c0-1.1-.9-2-2-2zM9 17H7v-7h2v7zm4 0h-2V7h2v10zm4 0h-2v-4h2v4z\"/>\n",
              "    </g>\n",
              "</svg>\n",
              "  </button>\n",
              "\n",
              "<style>\n",
              "  .colab-df-quickchart {\n",
              "      --bg-color: #E8F0FE;\n",
              "      --fill-color: #1967D2;\n",
              "      --hover-bg-color: #E2EBFA;\n",
              "      --hover-fill-color: #174EA6;\n",
              "      --disabled-fill-color: #AAA;\n",
              "      --disabled-bg-color: #DDD;\n",
              "  }\n",
              "\n",
              "  [theme=dark] .colab-df-quickchart {\n",
              "      --bg-color: #3B4455;\n",
              "      --fill-color: #D2E3FC;\n",
              "      --hover-bg-color: #434B5C;\n",
              "      --hover-fill-color: #FFFFFF;\n",
              "      --disabled-bg-color: #3B4455;\n",
              "      --disabled-fill-color: #666;\n",
              "  }\n",
              "\n",
              "  .colab-df-quickchart {\n",
              "    background-color: var(--bg-color);\n",
              "    border: none;\n",
              "    border-radius: 50%;\n",
              "    cursor: pointer;\n",
              "    display: none;\n",
              "    fill: var(--fill-color);\n",
              "    height: 32px;\n",
              "    padding: 0;\n",
              "    width: 32px;\n",
              "  }\n",
              "\n",
              "  .colab-df-quickchart:hover {\n",
              "    background-color: var(--hover-bg-color);\n",
              "    box-shadow: 0 1px 2px rgba(60, 64, 67, 0.3), 0 1px 3px 1px rgba(60, 64, 67, 0.15);\n",
              "    fill: var(--button-hover-fill-color);\n",
              "  }\n",
              "\n",
              "  .colab-df-quickchart-complete:disabled,\n",
              "  .colab-df-quickchart-complete:disabled:hover {\n",
              "    background-color: var(--disabled-bg-color);\n",
              "    fill: var(--disabled-fill-color);\n",
              "    box-shadow: none;\n",
              "  }\n",
              "\n",
              "  .colab-df-spinner {\n",
              "    border: 2px solid var(--fill-color);\n",
              "    border-color: transparent;\n",
              "    border-bottom-color: var(--fill-color);\n",
              "    animation:\n",
              "      spin 1s steps(1) infinite;\n",
              "  }\n",
              "\n",
              "  @keyframes spin {\n",
              "    0% {\n",
              "      border-color: transparent;\n",
              "      border-bottom-color: var(--fill-color);\n",
              "      border-left-color: var(--fill-color);\n",
              "    }\n",
              "    20% {\n",
              "      border-color: transparent;\n",
              "      border-left-color: var(--fill-color);\n",
              "      border-top-color: var(--fill-color);\n",
              "    }\n",
              "    30% {\n",
              "      border-color: transparent;\n",
              "      border-left-color: var(--fill-color);\n",
              "      border-top-color: var(--fill-color);\n",
              "      border-right-color: var(--fill-color);\n",
              "    }\n",
              "    40% {\n",
              "      border-color: transparent;\n",
              "      border-right-color: var(--fill-color);\n",
              "      border-top-color: var(--fill-color);\n",
              "    }\n",
              "    60% {\n",
              "      border-color: transparent;\n",
              "      border-right-color: var(--fill-color);\n",
              "    }\n",
              "    80% {\n",
              "      border-color: transparent;\n",
              "      border-right-color: var(--fill-color);\n",
              "      border-bottom-color: var(--fill-color);\n",
              "    }\n",
              "    90% {\n",
              "      border-color: transparent;\n",
              "      border-bottom-color: var(--fill-color);\n",
              "    }\n",
              "  }\n",
              "</style>\n",
              "\n",
              "  <script>\n",
              "    async function quickchart(key) {\n",
              "      const quickchartButtonEl =\n",
              "        document.querySelector('#' + key + ' button');\n",
              "      quickchartButtonEl.disabled = true;  // To prevent multiple clicks.\n",
              "      quickchartButtonEl.classList.add('colab-df-spinner');\n",
              "      try {\n",
              "        const charts = await google.colab.kernel.invokeFunction(\n",
              "            'suggestCharts', [key], {});\n",
              "      } catch (error) {\n",
              "        console.error('Error during call to suggestCharts:', error);\n",
              "      }\n",
              "      quickchartButtonEl.classList.remove('colab-df-spinner');\n",
              "      quickchartButtonEl.classList.add('colab-df-quickchart-complete');\n",
              "    }\n",
              "    (() => {\n",
              "      let quickchartButtonEl =\n",
              "        document.querySelector('#df-b419fc4b-5294-43b5-9ba1-6fa25e6da6ec button');\n",
              "      quickchartButtonEl.style.display =\n",
              "        google.colab.kernel.accessAllowed ? 'block' : 'none';\n",
              "    })();\n",
              "  </script>\n",
              "</div>\n",
              "\n",
              "    </div>\n",
              "  </div>\n"
            ],
            "application/vnd.google.colaboratory.intrinsic+json": {
              "type": "dataframe",
              "summary": "{\n  \"name\": \"train_df\",\n  \"rows\": 10,\n  \"fields\": [\n    {\n      \"column\": \"video_name\",\n      \"properties\": {\n        \"dtype\": \"string\",\n        \"num_unique_values\": 10,\n        \"samples\": [\n          \"v_PlayingCello_g23_c03.avi\",\n          \"v_TennisSwing_g18_c05.avi\",\n          \"v_PlayingCello_g11_c07.avi\"\n        ],\n        \"semantic_type\": \"\",\n        \"description\": \"\"\n      }\n    },\n    {\n      \"column\": \"tag\",\n      \"properties\": {\n        \"dtype\": \"category\",\n        \"num_unique_values\": 4,\n        \"samples\": [\n          \"TennisSwing\",\n          \"CricketShot\",\n          \"PlayingCello\"\n        ],\n        \"semantic_type\": \"\",\n        \"description\": \"\"\n      }\n    }\n  ]\n}"
            }
          },
          "metadata": {},
          "execution_count": 5
        },
        {
          "output_type": "display_data",
          "data": {
            "text/plain": [
              "<google.colab._quickchart_helpers.SectionTitle at 0x797f4b995780>"
            ],
            "text/html": [
              "<h4 class=\"colab-quickchart-section-title\">Categorical distributions</h4>\n",
              "<style>\n",
              "  .colab-quickchart-section-title {\n",
              "      clear: both;\n",
              "  }\n",
              "</style>"
            ]
          },
          "metadata": {}
        },
        {
          "output_type": "display_data",
          "data": {
            "text/plain": [
              "from matplotlib import pyplot as plt\n",
              "import seaborn as sns\n",
              "_df_0.groupby('tag').size().plot(kind='barh', color=sns.palettes.mpl_palette('Dark2'))\n",
              "plt.gca().spines[['top', 'right',]].set_visible(False)"
            ],
            "text/html": [
              "      <div class=\"colab-quickchart-chart-with-code\" id=\"chart-e1561c04-522a-4474-a355-7ffbc4601d0d\">\n",
              "        <img style=\"width: 180px;\" src=\"data:image/png;base64,iVBORw0KGgoAAAANSUhEUgAAAmcAAAGZCAYAAADMwpblAAAAOXRFWHRTb2Z0d2FyZQBNYXRwbG90\n",
              "bGliIHZlcnNpb24zLjcuMSwgaHR0cHM6Ly9tYXRwbG90bGliLm9yZy/bCgiHAAAACXBIWXMAAA9h\n",
              "AAAPYQGoP6dpAAAl50lEQVR4nO3dfVSUdf7/8dcINmpyo7mWZUIgSoDD5SACq2iLN5lbZtqGazck\n",
              "Fdqdrbu1rue7pZmbu9lKLW43bqWSN9spiTqmlXmTrukaCpiapQZqLmmrgKYIAtfvD0/zixUNUpwP\n",
              "4/Nxzpwjc11zzfvDdeb47JoZc9i2bQsAAABGaOHtAQAAAPD/EWcAAAAGIc4AAAAMQpwBAAAYhDgD\n",
              "AAAwCHEGAABgEOIMAADAIMQZAACAQYgzAAAAgxBnzdDzzz/v7REAAEATIc6aoT179nh7BAAA0ESI\n",
              "MwAAAIMQZwAAAAYhzgAAAAxCnAEAABiEOAMAADAIcQYAAGAQ4gwAAMAgxBkAAIBBiDMAAACDEGcA\n",
              "AAAGIc4AAAAMQpwBAAAYhDgDAAAwCHEGAABgEOIMAADAIMQZAACAQYgzAAAAgxBnAAAABiHOAAAA\n",
              "DEKcAQAAGIQ4AwAAMIi/twdA4x2bl6dv3p/h7TEAAPApV2x/zNsjSOLKGQAAgFGIMwAAAIMQZwAA\n",
              "AAYhzgAAAAxCnAEAABiEOAMAADAIcQYAAGAQ4gwAAMAgxBkAAIBBiDMAAACDEGcAAAAGIc4AAAAM\n",
              "QpwBAAAYhDgDAAAwCHEGAABgEOIMAADAIMQZAACAQYgzAAAAg3g1zizLkmVZioqKkp+fn+fn1NTU\n",
              "Jnmuo0ePnnWfl156SS6XS5ZlKTIyUrfffnujnmPo0KH64osvzmVMAABwkfP35pMXFBRIkoqLi2VZ\n",
              "lufnpnyuM8nLy9MzzzyjvLw8tW/fXrZtKz8/v1HPsXTp0nOYEAAAwNC3NT/44AP17dtXcXFx6t27\n",
              "t1atWiVJWr16tWJiYvTAAw8oNjZW0dHRysvLk3Qq8IKDgzV58mTFxcWpa9eudWLJ4XCorKxMtbW1\n",
              "euihh3TttdcqNjZWcXFxOnHihL7++msFBAQoICDAs7/b7ZYkzZ49WxkZGZKk7du3y+Fw6MMPP5Qk\n",
              "TZ06VVOnTpUkhYaGeiLwuuuu06OPPqrk5GSFh4dr3LhxnllKSko0ePBgRUVFafDgwRo1apSmTJnS\n",
              "dL9QAADQbBgXZ1999ZWmTJmipUuXatOmTVq4cKFGjx6tyspKSdKOHTuUlpamwsJCPfzww/q///s/\n",
              "z2PLy8vlcrm0adMmzZo1SxMmTDjt+IWFhVqxYoW2bdumwsJCrVy5UpdccokGDx6sgIAAdenSRamp\n",
              "qZo1a5ZKS0slSQMHDtRHH30kSVq+fLmSkpLq/Dxw4MB617J7926tWrVKW7du1QcffKD169dLksaP\n",
              "H6+kpCRt375d2dnZWr169Rl/H5WVlTpy5EidW41d2/hfLAAAaBaMi7P3339fu3btUr9+/WRZlm69\n",
              "9Va1aNFCe/fulSR17dpVCQkJkqSkpCTt3r3b89hWrVppxIgR9W77XlhYmKqrq5Wenq558+bp5MmT\n",
              "atGihdq0aaO1a9dq6dKl6tOnj3JycuRyuXT48GGFhYVJOhWOH330kaZPn66VK1fqu+++0/bt29W7\n",
              "d+9615Kamip/f3+1bt1almV55lmxYoXS09MlSVdccYVuvPHGM/4+pk+frqCgoDq3gop9jf21AgCA\n",
              "ZsK4OLNtW4MGDVJBQYHntn//fkVEREg6FWDf8/PzU3V1tednp9Mph8Ph2VZTU3Pa8YOCgrR161aN\n",
              "Hj1aO3bskMvl0q5duySdeiuzZ8+eGj9+vFasWKG2bdt6rmoNHDhQy5Yt086dO9W/f3/Ztq3Fixcr\n",
              "KSlJ/v71f3TvbLP+0Pcz12fSpEkqLy+vc7NaX33G/QEAQPNmXJxdf/31+uijj7RlyxbPfRs3bjxv\n",
              "x//222917NgxDR48WE8//bRCQ0O1fft27dixo85z7tu3T99++63nqtnAgQM1Y8YMz1WylJQUTZ48\n",
              "+YxvaZ5NSkqK5s6dK0k6cOCAlixZcsZ9nU6nAgMD69z8HMadNgAAcJ549dua9enatasWLlyosWPH\n",
              "6vjx46qqqlLPnj21cOHC83L8ffv26b777tPJkydVU1OjPn366IYbbtBnn32mCRMm6JtvvlHr1q1l\n",
              "27b+/Oc/y7IsSdKAAQO0d+9eT4wNGjRIzz77rAYMGNDoGZ5//nmlpaUpKipKV155pRISEhQcHHxe\n",
              "1gcAAJo3h23btreHuNhUVFSoZcuW8vf316FDh5SYmKj58+d7Pkv3Y8Ze1k9PXn5TE08JAMDF5Yrt\n",
              "j3l7BEkGXjm7GOzcuVN33XWXbNtWVVWVHnjggQaHGQAA8G3EmRe4XK4m/Qd3AQBA88UnywEAAAxC\n",
              "nAEAABiEOAMAADAIcQYAAGAQ4gwAAMAgxBkAAIBBiDMAAACDEGcAAAAGIc4AAAAMQpwBAAAYhDgD\n",
              "AAAwCHEGAABgEOIMAADAIMQZAACAQYgzAAAAgxBnAAAABvH39gBovEvTeumKmY95ewwAANAEuHIG\n",
              "AABgEOIMAADAIMQZAACAQYgzAAAAgxBnAAAABiHOAAAADEKcAQAAGIQ4AwAAMAhxBgAAYBDiDAAA\n",
              "wCDEGQAAgEGIMwAAAIMQZwAAAAYhzgAAAAxCnAEAABiEOAMAADAIcQYAAGAQ4gwAAMAgxBkAAIBB\n",
              "iDMAAACDEGcAAAAGIc4AAAAMQpwBAAAYhDgDAAAwCHEGAABgEOIMAADAIMQZAACAQYgzAAAAgxBn\n",
              "AAAABiHOAAAADEKcAQAAGIQ4AwAAMAhxBgAAYBDiDAAAwCDEGQAAgEGIMwAAAIMQZwAAAAYhzgAA\n",
              "AAxCnAEAABiEOAMAADAIcQYAAGAQ4gwAAMAgxBkAAIBBiDMAAACDEGcAAAAGcdi2bXt7CDROL/dw\n",
              "pfS/19tjAGiAZzJv9PYIAJoZrpwBAAAYhDgDAAAwCHEGAABgEOIMAADAIMQZAACAQYgzAAAAgxBn\n",
              "AAAABiHOAAAADEKcAQAAGIQ4AwAAMAhxBgAAYBDiDAAAwCDEGQAAgEGIMwAAAIMQZwAAAAYhzgAA\n",
              "AAxCnAEAABiEOAMAADAIcQYAAGCQJo2znJwcxcXFybIsRUZGKiUlRbW1tQoNDVVBQcF5e568vDyl\n",
              "pqae83Guu+46XXPNNbIsS9HR0Ro6dKgOHDhwHiY8s++++04Oh6NJnwMAADQfTRZnJSUlysjIUE5O\n",
              "jgoKCrRjxw49++yzTRIivXr10htvvHFejpWZmamCggJt27ZNISEhevbZZ8/LcSWptrZWtbW15+14\n",
              "AADA9zRZnB04cEB+fn5q37695z632+2Js5ycHCUlJemaa67RtGnTPPvMnDlT8fHxsixL8fHxWr9+\n",
              "vSRpwYIFuvHGGz372batsLAwFRYWavXq1bIsS5JUXFys4OBgTZ48WXFxceratauWLl3qedw777yj\n",
              "a6+9VrGxsZo4caI6dOig4uLi0+avrq7Wd999p3bt2nnue/3115WQkCC3261+/fqpsLBQkvTZZ5+p\n",
              "b9++crvdioqKqrOeKVOmaOTIkbr++usVExOjkpISvfzyy4qIiFDPnj2VmZl51t9jZWWljhw5Uudm\n",
              "E3gAAPisJoszl8ulvn37KiQkRLfccotmzJih/fv3e7aXlZVp/fr1+vTTT+tsu/POO/Xpp5+qoKBA\n",
              "WVlZGjNmjCRpxIgR2rBhg7755htJ0urVq9WuXTvFxsae9tzl5eVyuVzatGmTZs2apQkTJkiSDh48\n",
              "qPT0dL399tsqLCxUZGSkDh06VOexEyZMkGVZ6tSpkwoLC/Xggw9KktatW6dFixZpzZo12rx5s/70\n",
              "pz9p9OjRkqTQ0FCtWLFCmzdv1qZNm7R48WJt2LDBc8z169crOztb27dvV2lpqSZPnqw1a9YoPz9f\n",
              "FRUVZ/09Tp8+XUFBQXVuJQe+bNS5AAAAzUeTxVmLFi20ePFiffLJJxoyZIjWrVun6Oho7dq1S5I8\n",
              "YdOhQweFhYWpqKhIkpSfn6/+/fsrJiZG48aN0xdffKGKigq1bt1aI0eO1Ouvvy5Jmjt3rifc/ler\n",
              "Vq00YsQISVJSUpJ2794tSdqwYYNcLpciIyMlSWlpabrkkkvqPPb7tzUPHjyoW265Renp6ZJOXXEr\n",
              "LCxUQkKCLMvSww8/rMOHD6uiokIVFRW699571aNHDyUmJmrPnj11PlM3dOhQXX755ZKklStX6oYb\n",
              "blCnTp0kSffff/9Zf4+TJk1SeXl5nVuny7s14AwAAIDmyL+pnyAyMlKRkZEaO3ashgwZonfffVfS\n",
              "qYD6np+fn6qrq1VVVaURI0Zo1apVio+P15EjRxQUFKTKykq1bt1a6enpGjNmjO6//34tWbLkjG8J\n",
              "Op1Oz9unfn5+qqmpafTcDodDqampns+c2battLQ0Pf3006ft+/DDD6tDhw7Kz8+Xv7+/RowYoRMn\n",
              "Tni2t23b9qzPczZOp1NOp7PuY1rwJVsAAHxVk/0tv3//fq1bt87zc2lpqYqKihQeHn7Gx5w4cUJV\n",
              "VVXq0qWLJCkrK6vO9oSEBEnSo48+qoEDB9b5PFtDJCYmasuWLfriiy8kSfPnz1dVVdUZ91+xYoW6\n",
              "d+8uSRo2bJjmz5+vvXv3Sjr14f68vDzP2jp37ix/f3998cUXWr58+RmPmZKSovfff9/z9uxLL73U\n",
              "qDUAAADf1mRXzqqrqzV16lQVFRWpTZs2qq6uVlpamm6++WY98sgj9T4mMDBQ06ZNU+/evdWhQweN\n",
              "GjXqtH3GjBmj3//+91q2bFmjZ+rYsaNeeeUVDR8+XE6nU4MGDVLbtm0VHBzs2WfChAmaMmWKamtr\n",
              "1a5dO82bN0+SlJycrGeeeUa33HKL5yrfL3/5S/Xq1Ut//OMfdeedd2revHkKDw9XSkrKGWeIiYnR\n",
              "lClTlJycrLZt23refgUAAJAkh23btreHuJCOHj2qgIAASVJubq4mTZqkzz//3MtTNU4v93Cl9L/X\n",
              "22MAaIBnMm/88Z0A4Aea/DNnpsnKytIbb7yhmpoaBQYGasGCBd4eCQAAwOOiu3LmC7hyBjQfXDkD\n",
              "0Fh87Q8AAMAgxBkAAIBBiDMAAACDEGcAAAAGIc4AAAAMQpwBAAAYhDgDAAAwCHEGAABgEOIMAADA\n",
              "IMQZAACAQYgzAAAAgxBnAAAABiHOAAAADEKcAQAAGIQ4AwAAMIi/twdA4/W7LkzPzLzR22MAAIAm\n",
              "wJUzAAAAgxBnAAAABiHOAAAADEKcAQAAGIQ4AwAAMAhxBgAAYBDiDAAAwCDEGQAAgEGIMwAAAIMQ\n",
              "ZwAAAAYhzgAAAAxCnAEAABiEOAMAADAIcQYAAGAQ4gwAAMAgxBkAAIBB/Buzc3Z29mn3BQcHKy4u\n",
              "TlddddV5GwoAAOBi1ag4W7BggdasWaO+ffvK4XDoX//6l3r37q0vv/xSzz33nG677bammhMAAOCi\n",
              "0Ki3Ndu2bav8/HwtX75cH374ofLz89W+fXt98sknmjZtWlPNCAAAcNFoVJx9+eWXioyM9PzcvXt3\n",
              "7dq1S6GhoWrRgo+vAQAAnKtGFVVAQICys7Nl27Zs21Z2drbatm3bVLMBAABcdBoVZ3PmzNGsWbPk\n",
              "dDrVqlUrzZo1S6+++qqOHTumGTNmNNWMAAAAF41GfSGge/fu2rhxo44ePSrp1JW07w0aNOj8TgYA\n",
              "AHARalScSdLJkydVUlKiEydOeO5zuVzndSgAAICLVaPibMmSJbrvvvtUWlqqSy+9VKWlpQoJCVFR\n",
              "UVFTzQcAAHBRadRnzh5//HFt2LBB1157rQ4dOqTs7GzdeuutTTUbAADARadRcdaiRQuFhISourpa\n",
              "knTHHXdo5cqVTTIYAADAxahRb2u2bNlSktS5c2e9/fbbCg0NVWlpaZMMBgAAcDFqVJw9+OCDKi0t\n",
              "1bRp0zRq1CiVlZUpMzOzqWYDAAC46DTqbc3MzEy1a9dOcXFx2rlzp7799lvNnDmzqWYDAAC46DTo\n",
              "yllVVZVOnDihmpoaHT16VLZty+FwqKysTMeOHWvqGQEAAC4aDbpyNn36dAUHB2vr1q0KCgpScHCw\n",
              "goKC1KNHD91xxx1NPSMAAMBFo0FxNnnyZNXW1iojI0O1tbWeW1lZmR5//PGmnhEAAOCi0ajPnL34\n",
              "4otNNQcAAADUyDgDAABA0yLOAAAADEKcAQAAGIQ4AwAAMAhxBgAAYBDiDAAAwCDEGQAAgEGIMwAA\n",
              "AIMQZwAAAAYhzgAAAAxCnAEAABiEOAMAADCIw7Zt29tDoHHGRDs0KZ6uBgBv6Ta3xtsjwIfxNzwA\n",
              "AIBBiDMAAACDEGcAAAAGIc4AAAAMQpwBAAAYhDgDAAAwCHEGAABgEOIMAADAIMQZAACAQYgzAAAA\n",
              "gxBnAAAABiHOAAAADEKcAQAAGIQ4AwAAMAhxBgAAYBDiDAAAwCDEGQAAgEGIMwAAAIN4Pc5CQ0PV\n",
              "vXt3WZalqKgo/f3vf9fq1atlWdY5HfeJJ57QggULznm+gwcPasyYMQoLC1PPnj3ldrv19NNP/+jj\n",
              "7r77bj333HOSpClTpug3v/nNOc8CAAB8n7+3B5CkN954Q5Zlac+ePXK5XHrqqafO+ZhTp04952NU\n",
              "VFSof//+Sk1N1c6dO+Xn56fjx4/rH//4xzkfGwAAoD5ev3L2QyEhIerevbuuvPJKz33V1dW6/vrr\n",
              "1atXL0VHR2v06NE6duyYJOnGG2/UwoULPft++OGHSkhIkHT6lavU1FTddNNNioqKUkpKig4fPixJ\n",
              "OnnypB544AF169ZNiYmJ+t3vfqfrrrtOkrRw4UIFBARoypQp8vPzkyS1adNGjzzyiOexf/jDH9S7\n",
              "d29ZlqXbbrtNpaWlZ11jTU2NHnvsMcXExCgmJkYPP/ywqqqqzv2XBwAAfIJRcfbZZ59px44ddQLH\n",
              "z89PCxcuVF5enrZu3aqgoCBlZWVJkh555BHNmjXLs+/f//53PfTQQ/Ue+9///rfmzp2r7du3q2PH\n",
              "jnr55ZclSbNnz9bOnTu1bds2rV27Vlu2bPE8ZtOmTUpKSjrjvDNmzNCll16qjRs3qqCgQD169NAf\n",
              "//jHs65x9uzZ+vTTT7Vp0yYVFBRo9+7dyszMPOP+lZWVOnLkSJ1bTe1ZnwIAADRjRsRZamqqLMvS\n",
              "2LFj9dprrykiIsKzzbZtZWZmqmfPnnK5XHrvvfdUUFAgSRo0aJDKy8uVn5+vPXv2aOPGjbrtttvq\n",
              "fY4hQ4bosssukyQlJSVp9+7dkqQVK1bojjvuUMuWLdWyZUulpaU1eO7c3FzNnz9flmXJsiwtWrRI\n",
              "RUVFZ33MRx99pLvvvltOp1P+/v667777tHz58jPuP336dAUFBdW5bflvg0cEAADNjFGfOfve6tWr\n",
              "PX9euHChVq5cqY8//liBgYH629/+ppUrV3q2jx8/XllZWbr88suVnp4up9NZ73O0atXK82c/Pz9V\n",
              "V1fXu5/D4fD8OS4uTrNnzz7j3LZtKysrS4MHD/6xJZ7RD5+vPpMmTdJvf/vbOvc9lBD0k58PAACY\n",
              "zYgrZ2dTWlqqDh06KDAwUEePHtXcuXPrbL/zzjv1wQcfaM6cORo3blyjj5+SkqKFCxfq5MmTOnny\n",
              "pLKzsz3bfv3rX6usrExPPfWUampqJJ36ksDf/vY3SdLw4cOVmZmp48ePS5KOHz+ubdu2nfX5Bg4c\n",
              "qOzsbFVVVam6ulqvvPLKWePO6XQqMDCwzs3P+LMGAAB+KuP/mr/rrrt0/Phxde/eXTfccIOSk5Pr\n",
              "bG/Tpo1GjBihPn366Oqrr2708ceOHavQ0FBFRUWpT58+Cg8PV3BwsOfYH3/8sXbv3q2uXbuqR48e\n",
              "SkhI8MTYxIkTFR8fr4SEBLlcLiUmJnrecj2TjIwMud1uud1uWZal0NBQ/pkNAADg4bBt2/b2EOei\n",
              "pqZGcXFxysrKOi3cGuro0aMKCAjQyZMndfvttysuLk4TJ048z5OeP2OiHZoUb3xXA4DP6ja3xtsj\n",
              "wIc167/h3333XYWHhyspKeknh5l06q1Gy7LUo0cPBQYGavz48edxSgAAgIZr9lfOLkZcOQMA7+LK\n",
              "GZoSf8MDAAAYhDgDAAAwCHEGAABgEOIMAADAIMQZAACAQYgzAAAAgxBnAAAABiHOAAAADEKcAQAA\n",
              "GIQ4AwAAMAhxBgAAYBDiDAAAwCDEGQAAgEGIMwAAAIMQZwAAAAYhzgAAAAzi7+0B0Hjtrp+gbjNn\n",
              "ensMAADQBLhyBgAAYBDiDAAAwCDEGQAAgEGIMwAAAIMQZwAAAAYhzgAAAAxCnAEAABiEOAMAADAI\n",
              "cQYAAGAQ4gwAAMAgxBkAAIBBiDMAAACDEGcAAAAGIc4AAAAMQpwBAAAYhDgDAAAwCHEGAABgEOIM\n",
              "AADAIMQZAACAQYgzAAAAgxBnAAAABiHOAAAADEKcAQAAGIQ4AwAAMAhxBgAAYBDiDAAAwCDEGQAA\n",
              "gEGIMwAAAIMQZwAAAAYhzgAAAAxCnAEAABiEOAMAADAIcQYAAGAQ4gwAAMAgxBkAAIBBiDMAAACD\n",
              "EGcAAAAGIc4AAAAMQpwBAAAYhDgDAAAwCHEGAABgEOIMAADAIMQZAACAQYgzAAAAgxBnAAAABnHY\n",
              "tm17ewg0Ttvr4xU8aoC3x8B59vWYP3t7BACAAbhyBgAAYBDiDAAAwCDEGQAAgEGIMwAAAIMQZwAA\n",
              "AAYhzgAAAAxCnAEAABiEOAMAADAIcQYAAGAQ4gwAAMAgxBkAAIBBiDMAAACDEGcAAAAGIc4AAAAM\n",
              "QpwBAAAYhDgDAAAwCHEGAABgEOIMAADAIEbGWXV1tZ588klFRkYqJiZGlmUpIyNDZWVlp+37xBNP\n",
              "aMGCBWc93ty5czV8+PBGzVBQUKB//vOfde7LyclRXFycLMtSZGSkUlJSVFtbK0kKDQ1VQUFBo55D\n",
              "kqZMmaITJ040+nEAAMA3+Xt7gPrcc889Onz4sNavX6927drJtm299dZbOnz4sIKDgz37VVdXa+rU\n",
              "qU0yQ0FBgXJzczVq1ChJUklJiTIyMrRp0yaFhIRIkjZv3iyHw3FOz/Pkk0/qN7/5jVq1anXOMwMA\n",
              "gObPuCtnu3bt0ptvvqk5c+aoXbt2kiSHw6Ff/epX2rt3r6Kjo3XPPffIsiy9/fbbuvvuu/Xcc89J\n",
              "kqqqqvTYY48pJiZGsbGxGjJkyGnH/89//qP4+Hi99tprkqTXX39dCQkJcrvd6tevnwoLC3Xw4EE9\n",
              "8cQTWrVqlSzL0rhx43TgwAH5+fmpffv2nmO53e46cZaTk6OkpCRdc801mjZtWp01DRw4UC6XS5Zl\n",
              "KTc3V5I0btw4SVJycrIsy9LBgwfP6+8SAAA0P8ZdOdu8ebMiIiLUoUOHerd//vnneuGFF/Tqq69K\n",
              "kt577z3PtunTp+vLL7/Upk2b5HQ69e2339Z57GeffaZRo0YpMzNTgwcP1rp167Ro0SKtWbNGTqdT\n",
              "a9eu1ejRo7Vt2zZNnTpVubm5npCqra1V3759FRISov79++vnP/+5Ro8erauuuspz/LKyMq1fv17/\n",
              "/e9/FR4erjFjxuiqq67S7bffrvT0dI0dO1Y7d+5UYmKievbsqZdeekkvv/yy1q5dW+eK4A9VVlaq\n",
              "srKy7p01diN/qwAAoLkwLs5+TFhYmPr371/vtiVLlugvf/mLnE6nJOlnP/uZZ9u2bds0bNgw5ebm\n",
              "KjY2VpL0zjvvqLCwUAkJCZ79Dh8+rIqKitOO3aJFCy1evFg7duzQxx9/rGXLlulPf/qT8vLy1LVr\n",
              "V0nS6NGjJUkdOnRQWFiYioqKFBgYqM2bN2vdunWSpIiICPXt21dr1671vD16NtOnT9eTTz5Z576W\n",
              "YVf+6OMAAEDzZNzbmm63Wzt37tShQ4fq3d62bdufdNwrr7xSl19+uVauXOm5z7ZtpaWlqaCgwHMr\n",
              "KSlR69atz3icyMhIjR07Vrm5uUpMTNS7777r2fbDz435+fmpurq63mM05nNqkyZNUnl5eZ3bJdd0\n",
              "avDjAQBA82JcnHXt2lUjR47UPffc4/l2pm3bWrx4sb766quzPnbYsGF6/vnnPW8D/vBtzXbt2mn5\n",
              "8uXKzc31fIlg2LBhmj9/vvbu3Svp1FuXeXl5kqTAwECVl5d7Hr9//37P1S9JKi0tVVFRkcLDw886\n",
              "U0BAgNxut+bMmSPp1OfP/vWvf6lfv36e7T98nv/ldDoVGBhY5ya/c/sSAgAAMJdxcSZJr732mmJj\n",
              "Y5WQkKDo6GhFRUXpww8/rPNh/PpMnDhR3bp1k9vtlmVZSktLq7M9ICBA77//vj755BM99thjSk5O\n",
              "1jPPPKNbbrlFsbGxio6O9vzzGQMGDFBlZaVcLpfGjRvn+WZot27dZFmWkpOTlZaWpptvvvlH17Ng\n",
              "wQK98cYbio2N1a233qpXXnlFXbp0kST97ne/06BBg/hCAAAAkCQ5bNvm0+XNTNvr4xU8aoC3x8B5\n",
              "9vWYP3t7BACAAYy8cgYAAHCxIs4AAAAMQpwBAAAYhDgDAAAwCHEGAABgEOIMAADAIMQZAACAQYgz\n",
              "AAAAgxBnAAAABiHOAAAADEKcAQAAGIQ4AwAAMAhxBgAAYBDiDAAAwCDEGQAAgEGIMwAAAIMQZwAA\n",
              "AAYhzgAAAAzi7+0B0HgZ0cmaOebP3h4DAAA0Aa6cAQAAGIQ4AwAAMAhxBgAAYBDiDAAAwCDEGQAA\n",
              "gEGIMwAAAIMQZwAAAAYhzgAAAAxCnAEAABiEOAMAADAIcQYAAGAQ4gwAAMAgxBkAAIBBiDMAAACD\n",
              "EGcAAAAGIc4AAAAMQpwBAAAYhDgDAAAwCHEGAABgEOIMAADAIMQZAACAQYgzAAAAg/h7ewA0TmVl\n",
              "pZYtW6aamhr5+fl5e5wmVVNTo40bN6p3796s1YewVt/EWn0Taz2/QkJC9Mgjj/zofg7btu0mmQBN\n",
              "4siRIwoKClJ5ebkCAwO9PU6TYq2+ibX6Jtbqm1ird/C2JgAAgEGIMwAAAIMQZwAAAAYhzpoZp9Op\n",
              "yZMny+l0enuUJsdafRNr9U2s1TexVu/gCwEAAAAG4coZAACAQYgzAAAAgxBnAAAABiHODLVz5079\n",
              "/Oc/V7du3RQfH69t27bVu9+rr76qiIgIhYeH67777tPJkycv8KTnriFrXb16tVq3bi3Lsjy3iooK\n",
              "L0x7bsaPH6/Q0FA5HA4VFBSccT9fOK8NWasvnNcTJ05o+PDh6tatm2JjYzVo0CDt2rWr3n2XLFmi\n",
              "yMhIRUREaMSIETpy5MgFnvbcNHStxcXF8vPzq3Ned+/e7YWJz83gwYPlcrlkWZaSk5OVn59f736+\n",
              "8HptyFp94fX6Q3PmzJHD4VBubm692736erVhpF/84hf2nDlzbNu27TfffNPu1avXaft89dVXdqdO\n",
              "neySkhK7trbWvummm+xZs2Zd4EnPXUPWumrVKjs2NvbCDtYEPv74Y3vfvn12SEiInZ+fX+8+vnJe\n",
              "G7JWXzivFRUV9nvvvWfX1tbatm3bWVlZdv/+/U/b7+jRo3bHjh3tzz//3LZt237wwQftRx999EKO\n",
              "es4autaioiI7KCjowg7XBEpLSz1/zsnJsV0u12n7+MrrtSFr9YXX6/eKiorspKQkOzEx0X777bdP\n",
              "2+7t1ytXzgx08OBB5eXl6Y477pAkjRw5Uvv27Tvtv1DfeustDRs2TFdccYUcDofGjRunRYsWeWPk\n",
              "n6yha/UV/fr1U+fOnc+6jy+cV6lha/UFrVq10tChQ+VwOCRJiYmJKi4uPm2/ZcuWqWfPnoqMjJQk\n",
              "PfDAA83uvDZ0rb4iODjY8+fy8nLPun/IV16vDVmrr6itrdW9996rrKysM/6zGd5+vRJnBtq3b586\n",
              "deokf/9T/196h8OhLl26aO/evXX227t3r0JCQjw/h4aGnraP6Rq6VknavXu33G634uPj9cILL1zo\n",
              "US8YXzivjeFr5/X555/XzTfffNr99Z3XkpISVVdXX8jxzqszrVWSjh07pvj4eLndbk2dOlU1NTUX\n",
              "eLrz46677tLVV1+txx9/XK+//vpp233p9fpja5V84/U6c+ZM9enTR3FxcWfcx9uvV/8L8izAOXK7\n",
              "3fr6668VFBSkr7/+WkOHDlWHDh102223eXs0nANfO69PP/20du3apRUrVnh7lCZ3trV26tRJ+/fv\n",
              "V8eOHXX48GGlpqbqr3/9q37/+997YdJzk52dLUmaN2+eJk6cqKVLl3p5oqbzY2v1hdfr1q1btXjx\n",
              "Yq1Zs8bbo5wVV84MdPXVV9cpdNu2tXfvXnXp0qXOfl26dNGePXs8PxcXF5+2j+kautbAwEAFBQVJ\n",
              "kjp37qxf//rXWrt27QWf90LwhfPaUL50Xp999lnl5ORo2bJlatOmzWnb6zuvP7xq3Jz82FqdTqc6\n",
              "duwoSWrfvr3S09Ob7Xn9XlpamlatWqVDhw7Vud8XX69nWqsvvF7Xrl2r4uJiRUREKDQ0VBs2bFBG\n",
              "RoZefPHFOvt5+/VKnBmoY8eOcrvdmj9/viRp8eLF6ty5s7p27Vpnv5EjR+rdd9/VN998I9u29dJL\n",
              "L2nUqFHeGPkna+haS0pKVFtbK0k6evSolixZop49e17weS8EXzivDeUr53XmzJlatGiRli9fXuez\n",
              "Oz80ZMgQbd68WTt27JAkvfDCC83yvDZkrQcPHvR8Y7GyslI5OTnN7ryWlZXpP//5j+fn3NxcXXbZ\n",
              "ZWrfvn2d/Xzh9drQtfrC6/X+++9XSUmJiouLVVxcrMTERM2ePVv3339/nf28/nq9YF89QKPs2LHD\n",
              "TkxMtCMiIuy4uDh7y5Yttm3b9j333GO/8847nv1mz55th4WF2WFhYXZ6erpdVVXlrZF/soasNSsr\n",
              "y46KirJdLpcdFRVlT5482fONseYkIyPDvuqqq2w/Pz+7Y8eOdnh4uG3bvnleG7JWXziv+/btsyXZ\n",
              "YWFhdmxsrB0bG2v37t3btm3bfvzxx+0XX3zRs+8777xjd+/e3Q4PD7dvvvlmu6yszFtj/yQNXevi\n",
              "xYvt6Ohoz3l96KGH7BMnTnhz9EYrLi624+Pj7ZiYGNvlctkDBgzwfOvY116vDV2rL7xe/1f//v09\n",
              "39Y06fXK/1sTAADAILytCQAAYBDiDAAAwCDEGQAAgEGIMwAAAIMQZwAAAAYhzgAAAAxCnAEAABiE\n",
              "OAMAADAIcQYAAGAQ4gwAAMAgxBkAAIBB/h//BfEIezrAFgAAAABJRU5ErkJggg==\n",
              "\">\n",
              "      </div>\n",
              "      <script type=\"text/javascript\">\n",
              "        (() => {\n",
              "          const chartElement = document.getElementById(\"chart-e1561c04-522a-4474-a355-7ffbc4601d0d\");\n",
              "          async function getCodeForChartHandler(event) {\n",
              "            const chartCodeResponse =  await google.colab.kernel.invokeFunction(\n",
              "                'getCodeForChart', [\"chart-e1561c04-522a-4474-a355-7ffbc4601d0d\"], {});\n",
              "            const responseJson = chartCodeResponse.data['application/json'];\n",
              "            await google.colab.notebook.addCell(responseJson.code, 'code');\n",
              "          }\n",
              "          chartElement.onclick = getCodeForChartHandler;\n",
              "        })();\n",
              "      </script>\n",
              "      <style>\n",
              "        .colab-quickchart-chart-with-code  {\n",
              "            display: block;\n",
              "            float: left;\n",
              "            border: 1px solid transparent;\n",
              "        }\n",
              "\n",
              "        .colab-quickchart-chart-with-code:hover {\n",
              "            cursor: pointer;\n",
              "            border: 1px solid #aaa;\n",
              "        }\n",
              "      </style>"
            ]
          },
          "metadata": {}
        }
      ],
      "source": [
        "train_df = pd.read_csv(\"train.csv\")\n",
        "test_df = pd.read_csv(\"test.csv\")\n",
        "\n",
        "print(f\"Total videos for training: {len(train_df)}\")\n",
        "print(f\"Total videos for testing: {len(test_df)}\")\n",
        "\n",
        "train_df.sample(10)"
      ]
    },
    {
      "cell_type": "markdown",
      "metadata": {
        "id": "oEV7nfj6wGKU"
      },
      "source": [
        "One of the many challenges of training video classifiers is figuring out a way to feed\n",
        "the videos to a network. [This blog post](https://blog.coast.ai/five-video-classification-methods-implemented-in-keras-and-tensorflow-99cad29cc0b5)\n",
        "discusses five such methods. Since a video is an ordered sequence of frames, we could\n",
        "just extract the frames and put them in a 3D tensor. But the number of frames may differ\n",
        "from video to video which would prevent us from stacking them into batches\n",
        "(unless we use padding). As an alternative, we can **save video frames at a fixed\n",
        "interval until a maximum frame count is reached**. In this example we will do\n",
        "the following:\n",
        "\n",
        "1. Capture the frames of a video.\n",
        "2. Extract frames from the videos until a maximum frame count is reached.\n",
        "3. In the case, where a video's frame count is lesser than the maximum frame count we\n",
        "will pad the video with zeros.\n",
        "\n",
        "Note that this workflow is identical to [problems involving texts sequences](https://developers.google.com/machine-learning/guides/text-classification/). Videos of the UCF101 dataset is [known](https://www.crcv.ucf.edu/papers/UCF101_CRCV-TR-12-01.pdf)\n",
        "to not contain extreme variations in objects and actions across frames. Because of this,\n",
        "it may be okay to only consider a few frames for the learning task. But this approach may\n",
        "not generalize well to other video classification problems. We will be using\n",
        "[OpenCV's `VideoCapture()` method](https://docs.opencv.org/master/dd/d43/tutorial_py_video_display.html)\n",
        "to read frames from videos."
      ]
    },
    {
      "cell_type": "code",
      "execution_count": 6,
      "metadata": {
        "id": "XJ-Lqho0wGKU"
      },
      "outputs": [],
      "source": [
        "# The following two methods are taken from this tutorial:\n",
        "# https://www.tensorflow.org/hub/tutorials/action_recognition_with_tf_hub\n",
        "\n",
        "\n",
        "def crop_center_square(frame):\n",
        "    y, x = frame.shape[0:2]\n",
        "    min_dim = min(y, x)\n",
        "    start_x = (x // 2) - (min_dim // 2)\n",
        "    start_y = (y // 2) - (min_dim // 2)\n",
        "    return frame[start_y : start_y + min_dim, start_x : start_x + min_dim]\n",
        "\n",
        "\n",
        "def load_video(path, max_frames=0, resize=(IMG_SIZE, IMG_SIZE)):\n",
        "    cap = cv2.VideoCapture(path)\n",
        "    frames = []\n",
        "    try:\n",
        "        while True:\n",
        "            ret, frame = cap.read()\n",
        "            if not ret:\n",
        "                break\n",
        "            frame = crop_center_square(frame)\n",
        "            frame = cv2.resize(frame, resize)\n",
        "            frame = frame[:, :, [2, 1, 0]]\n",
        "            frames.append(frame)\n",
        "\n",
        "            if len(frames) == max_frames:\n",
        "                break\n",
        "    finally:\n",
        "        cap.release()\n",
        "    return np.array(frames)\n"
      ]
    },
    {
      "cell_type": "markdown",
      "metadata": {
        "id": "HrtpiHxKwGKU"
      },
      "source": [
        "We can use a pre-trained network to extract meaningful features from the extracted\n",
        "frames. The [`Keras Applications`](https://keras.io/api/applications/) module provides\n",
        "a number of state-of-the-art models pre-trained on the [ImageNet-1k dataset](http://image-net.org/).\n",
        "We will be using the [InceptionV3 model](https://arxiv.org/abs/1512.00567) for this purpose."
      ]
    },
    {
      "cell_type": "code",
      "execution_count": 7,
      "metadata": {
        "colab": {
          "base_uri": "https://localhost:8080/"
        },
        "id": "rE25jKJvwGKU",
        "outputId": "1f3cf408-fe8b-4bc6-8e97-74e0c96ec0c0"
      },
      "outputs": [
        {
          "output_type": "stream",
          "name": "stdout",
          "text": [
            "Downloading data from https://storage.googleapis.com/tensorflow/keras-applications/inception_v3/inception_v3_weights_tf_dim_ordering_tf_kernels_notop.h5\n",
            "87910968/87910968 [==============================] - 5s 0us/step\n"
          ]
        }
      ],
      "source": [
        "\n",
        "def build_feature_extractor():\n",
        "    feature_extractor = keras.applications.InceptionV3(\n",
        "        weights=\"imagenet\",\n",
        "        include_top=False,\n",
        "        pooling=\"avg\",\n",
        "        input_shape=(IMG_SIZE, IMG_SIZE, 3),\n",
        "    )\n",
        "    preprocess_input = keras.applications.inception_v3.preprocess_input\n",
        "\n",
        "    inputs = keras.Input((IMG_SIZE, IMG_SIZE, 3))\n",
        "    preprocessed = preprocess_input(inputs)\n",
        "\n",
        "    outputs = feature_extractor(preprocessed)\n",
        "    return keras.Model(inputs, outputs, name=\"feature_extractor\")\n",
        "\n",
        "\n",
        "feature_extractor = build_feature_extractor()"
      ]
    },
    {
      "cell_type": "markdown",
      "metadata": {
        "id": "aP2OnxlcwGKU"
      },
      "source": [
        "The labels of the videos are strings. Neural networks do not understand string values,\n",
        "so they must be converted to some numerical form before they are fed to the model. Here\n",
        "we will use the [`StringLookup`](https://keras.io/api/layers/preprocessing_layers/categorical/string_lookup)\n",
        "layer encode the class labels as integers."
      ]
    },
    {
      "cell_type": "code",
      "execution_count": 8,
      "metadata": {
        "colab": {
          "base_uri": "https://localhost:8080/"
        },
        "id": "OQbuvLiowGKU",
        "outputId": "e760cd6e-e0f0-4eca-d64d-06789c79c3b4"
      },
      "outputs": [
        {
          "output_type": "stream",
          "name": "stdout",
          "text": [
            "['CricketShot', 'PlayingCello', 'Punch', 'ShavingBeard', 'TennisSwing']\n"
          ]
        }
      ],
      "source": [
        "label_processor = keras.layers.StringLookup(\n",
        "    num_oov_indices=0, vocabulary=np.unique(train_df[\"tag\"])\n",
        ")\n",
        "print(label_processor.get_vocabulary())"
      ]
    },
    {
      "cell_type": "code",
      "source": [
        "pip install keras\n"
      ],
      "metadata": {
        "id": "uSnXZ8Xk1CSo",
        "outputId": "bc758c69-a60a-4290-ef89-40f904daf1e1",
        "colab": {
          "base_uri": "https://localhost:8080/"
        }
      },
      "execution_count": 10,
      "outputs": [
        {
          "output_type": "stream",
          "name": "stdout",
          "text": [
            "Requirement already satisfied: keras in /usr/local/lib/python3.10/dist-packages (2.15.0)\n"
          ]
        }
      ]
    },
    {
      "cell_type": "code",
      "source": [
        "pip install tensorflow"
      ],
      "metadata": {
        "id": "0fgVCCBo1IRa",
        "outputId": "6bdca876-801e-4bc9-d9e1-d0d5052caa5d",
        "colab": {
          "base_uri": "https://localhost:8080/"
        }
      },
      "execution_count": 11,
      "outputs": [
        {
          "output_type": "stream",
          "name": "stdout",
          "text": [
            "Requirement already satisfied: tensorflow in /usr/local/lib/python3.10/dist-packages (2.15.0)\n",
            "Requirement already satisfied: absl-py>=1.0.0 in /usr/local/lib/python3.10/dist-packages (from tensorflow) (1.4.0)\n",
            "Requirement already satisfied: astunparse>=1.6.0 in /usr/local/lib/python3.10/dist-packages (from tensorflow) (1.6.3)\n",
            "Requirement already satisfied: flatbuffers>=23.5.26 in /usr/local/lib/python3.10/dist-packages (from tensorflow) (24.3.25)\n",
            "Requirement already satisfied: gast!=0.5.0,!=0.5.1,!=0.5.2,>=0.2.1 in /usr/local/lib/python3.10/dist-packages (from tensorflow) (0.5.4)\n",
            "Requirement already satisfied: google-pasta>=0.1.1 in /usr/local/lib/python3.10/dist-packages (from tensorflow) (0.2.0)\n",
            "Requirement already satisfied: h5py>=2.9.0 in /usr/local/lib/python3.10/dist-packages (from tensorflow) (3.9.0)\n",
            "Requirement already satisfied: libclang>=13.0.0 in /usr/local/lib/python3.10/dist-packages (from tensorflow) (18.1.1)\n",
            "Requirement already satisfied: ml-dtypes~=0.2.0 in /usr/local/lib/python3.10/dist-packages (from tensorflow) (0.2.0)\n",
            "Requirement already satisfied: numpy<2.0.0,>=1.23.5 in /usr/local/lib/python3.10/dist-packages (from tensorflow) (1.25.2)\n",
            "Requirement already satisfied: opt-einsum>=2.3.2 in /usr/local/lib/python3.10/dist-packages (from tensorflow) (3.3.0)\n",
            "Requirement already satisfied: packaging in /usr/local/lib/python3.10/dist-packages (from tensorflow) (24.1)\n",
            "Requirement already satisfied: protobuf!=4.21.0,!=4.21.1,!=4.21.2,!=4.21.3,!=4.21.4,!=4.21.5,<5.0.0dev,>=3.20.3 in /usr/local/lib/python3.10/dist-packages (from tensorflow) (3.20.3)\n",
            "Requirement already satisfied: setuptools in /usr/local/lib/python3.10/dist-packages (from tensorflow) (67.7.2)\n",
            "Requirement already satisfied: six>=1.12.0 in /usr/local/lib/python3.10/dist-packages (from tensorflow) (1.16.0)\n",
            "Requirement already satisfied: termcolor>=1.1.0 in /usr/local/lib/python3.10/dist-packages (from tensorflow) (2.4.0)\n",
            "Requirement already satisfied: typing-extensions>=3.6.6 in /usr/local/lib/python3.10/dist-packages (from tensorflow) (4.12.2)\n",
            "Requirement already satisfied: wrapt<1.15,>=1.11.0 in /usr/local/lib/python3.10/dist-packages (from tensorflow) (1.14.1)\n",
            "Requirement already satisfied: tensorflow-io-gcs-filesystem>=0.23.1 in /usr/local/lib/python3.10/dist-packages (from tensorflow) (0.37.0)\n",
            "Requirement already satisfied: grpcio<2.0,>=1.24.3 in /usr/local/lib/python3.10/dist-packages (from tensorflow) (1.64.1)\n",
            "Requirement already satisfied: tensorboard<2.16,>=2.15 in /usr/local/lib/python3.10/dist-packages (from tensorflow) (2.15.2)\n",
            "Requirement already satisfied: tensorflow-estimator<2.16,>=2.15.0 in /usr/local/lib/python3.10/dist-packages (from tensorflow) (2.15.0)\n",
            "Requirement already satisfied: keras<2.16,>=2.15.0 in /usr/local/lib/python3.10/dist-packages (from tensorflow) (2.15.0)\n",
            "Requirement already satisfied: wheel<1.0,>=0.23.0 in /usr/local/lib/python3.10/dist-packages (from astunparse>=1.6.0->tensorflow) (0.43.0)\n",
            "Requirement already satisfied: google-auth<3,>=1.6.3 in /usr/local/lib/python3.10/dist-packages (from tensorboard<2.16,>=2.15->tensorflow) (2.27.0)\n",
            "Requirement already satisfied: google-auth-oauthlib<2,>=0.5 in /usr/local/lib/python3.10/dist-packages (from tensorboard<2.16,>=2.15->tensorflow) (1.2.0)\n",
            "Requirement already satisfied: markdown>=2.6.8 in /usr/local/lib/python3.10/dist-packages (from tensorboard<2.16,>=2.15->tensorflow) (3.6)\n",
            "Requirement already satisfied: requests<3,>=2.21.0 in /usr/local/lib/python3.10/dist-packages (from tensorboard<2.16,>=2.15->tensorflow) (2.31.0)\n",
            "Requirement already satisfied: tensorboard-data-server<0.8.0,>=0.7.0 in /usr/local/lib/python3.10/dist-packages (from tensorboard<2.16,>=2.15->tensorflow) (0.7.2)\n",
            "Requirement already satisfied: werkzeug>=1.0.1 in /usr/local/lib/python3.10/dist-packages (from tensorboard<2.16,>=2.15->tensorflow) (3.0.3)\n",
            "Requirement already satisfied: cachetools<6.0,>=2.0.0 in /usr/local/lib/python3.10/dist-packages (from google-auth<3,>=1.6.3->tensorboard<2.16,>=2.15->tensorflow) (5.3.3)\n",
            "Requirement already satisfied: pyasn1-modules>=0.2.1 in /usr/local/lib/python3.10/dist-packages (from google-auth<3,>=1.6.3->tensorboard<2.16,>=2.15->tensorflow) (0.4.0)\n",
            "Requirement already satisfied: rsa<5,>=3.1.4 in /usr/local/lib/python3.10/dist-packages (from google-auth<3,>=1.6.3->tensorboard<2.16,>=2.15->tensorflow) (4.9)\n",
            "Requirement already satisfied: requests-oauthlib>=0.7.0 in /usr/local/lib/python3.10/dist-packages (from google-auth-oauthlib<2,>=0.5->tensorboard<2.16,>=2.15->tensorflow) (1.3.1)\n",
            "Requirement already satisfied: charset-normalizer<4,>=2 in /usr/local/lib/python3.10/dist-packages (from requests<3,>=2.21.0->tensorboard<2.16,>=2.15->tensorflow) (3.3.2)\n",
            "Requirement already satisfied: idna<4,>=2.5 in /usr/local/lib/python3.10/dist-packages (from requests<3,>=2.21.0->tensorboard<2.16,>=2.15->tensorflow) (3.7)\n",
            "Requirement already satisfied: urllib3<3,>=1.21.1 in /usr/local/lib/python3.10/dist-packages (from requests<3,>=2.21.0->tensorboard<2.16,>=2.15->tensorflow) (2.0.7)\n",
            "Requirement already satisfied: certifi>=2017.4.17 in /usr/local/lib/python3.10/dist-packages (from requests<3,>=2.21.0->tensorboard<2.16,>=2.15->tensorflow) (2024.6.2)\n",
            "Requirement already satisfied: MarkupSafe>=2.1.1 in /usr/local/lib/python3.10/dist-packages (from werkzeug>=1.0.1->tensorboard<2.16,>=2.15->tensorflow) (2.1.5)\n",
            "Requirement already satisfied: pyasn1<0.7.0,>=0.4.6 in /usr/local/lib/python3.10/dist-packages (from pyasn1-modules>=0.2.1->google-auth<3,>=1.6.3->tensorboard<2.16,>=2.15->tensorflow) (0.6.0)\n",
            "Requirement already satisfied: oauthlib>=3.0.0 in /usr/local/lib/python3.10/dist-packages (from requests-oauthlib>=0.7.0->google-auth-oauthlib<2,>=0.5->tensorboard<2.16,>=2.15->tensorflow) (3.2.2)\n"
          ]
        }
      ]
    },
    {
      "cell_type": "markdown",
      "metadata": {
        "id": "DMcQDelywGKU"
      },
      "source": [
        "Finally, we can put all the pieces together to create our data processing utility."
      ]
    },
    {
      "cell_type": "code",
      "execution_count": 9,
      "metadata": {
        "colab": {
          "base_uri": "https://localhost:8080/",
          "height": 332
        },
        "id": "J9EuoLEvwGKU",
        "outputId": "75597deb-f12b-4d0d-e307-024138043380"
      },
      "outputs": [
        {
          "output_type": "error",
          "ename": "AttributeError",
          "evalue": "module 'keras' has no attribute 'ops'",
          "traceback": [
            "\u001b[0;31m---------------------------------------------------------------------------\u001b[0m",
            "\u001b[0;31mAttributeError\u001b[0m                            Traceback (most recent call last)",
            "\u001b[0;32m<ipython-input-9-04bafee5bfe0>\u001b[0m in \u001b[0;36m<cell line: 49>\u001b[0;34m()\u001b[0m\n\u001b[1;32m     47\u001b[0m \u001b[0;34m\u001b[0m\u001b[0m\n\u001b[1;32m     48\u001b[0m \u001b[0;34m\u001b[0m\u001b[0m\n\u001b[0;32m---> 49\u001b[0;31m \u001b[0mtrain_data\u001b[0m\u001b[0;34m,\u001b[0m \u001b[0mtrain_labels\u001b[0m \u001b[0;34m=\u001b[0m \u001b[0mprepare_all_videos\u001b[0m\u001b[0;34m(\u001b[0m\u001b[0mtrain_df\u001b[0m\u001b[0;34m,\u001b[0m \u001b[0;34m\"train\"\u001b[0m\u001b[0;34m)\u001b[0m\u001b[0;34m\u001b[0m\u001b[0;34m\u001b[0m\u001b[0m\n\u001b[0m\u001b[1;32m     50\u001b[0m \u001b[0mtest_data\u001b[0m\u001b[0;34m,\u001b[0m \u001b[0mtest_labels\u001b[0m \u001b[0;34m=\u001b[0m \u001b[0mprepare_all_videos\u001b[0m\u001b[0;34m(\u001b[0m\u001b[0mtest_df\u001b[0m\u001b[0;34m,\u001b[0m \u001b[0;34m\"test\"\u001b[0m\u001b[0;34m)\u001b[0m\u001b[0;34m\u001b[0m\u001b[0;34m\u001b[0m\u001b[0m\n\u001b[1;32m     51\u001b[0m \u001b[0;34m\u001b[0m\u001b[0m\n",
            "\u001b[0;32m<ipython-input-9-04bafee5bfe0>\u001b[0m in \u001b[0;36mprepare_all_videos\u001b[0;34m(df, root_dir)\u001b[0m\n\u001b[1;32m      3\u001b[0m     \u001b[0mvideo_paths\u001b[0m \u001b[0;34m=\u001b[0m \u001b[0mdf\u001b[0m\u001b[0;34m[\u001b[0m\u001b[0;34m\"video_name\"\u001b[0m\u001b[0;34m]\u001b[0m\u001b[0;34m.\u001b[0m\u001b[0mvalues\u001b[0m\u001b[0;34m.\u001b[0m\u001b[0mtolist\u001b[0m\u001b[0;34m(\u001b[0m\u001b[0;34m)\u001b[0m\u001b[0;34m\u001b[0m\u001b[0;34m\u001b[0m\u001b[0m\n\u001b[1;32m      4\u001b[0m     \u001b[0mlabels\u001b[0m \u001b[0;34m=\u001b[0m \u001b[0mdf\u001b[0m\u001b[0;34m[\u001b[0m\u001b[0;34m\"tag\"\u001b[0m\u001b[0;34m]\u001b[0m\u001b[0;34m.\u001b[0m\u001b[0mvalues\u001b[0m\u001b[0;34m\u001b[0m\u001b[0;34m\u001b[0m\u001b[0m\n\u001b[0;32m----> 5\u001b[0;31m     \u001b[0mlabels\u001b[0m \u001b[0;34m=\u001b[0m \u001b[0mkeras\u001b[0m\u001b[0;34m.\u001b[0m\u001b[0mops\u001b[0m\u001b[0;34m.\u001b[0m\u001b[0mconvert_to_numpy\u001b[0m\u001b[0;34m(\u001b[0m\u001b[0mlabel_processor\u001b[0m\u001b[0;34m(\u001b[0m\u001b[0mlabels\u001b[0m\u001b[0;34m[\u001b[0m\u001b[0;34m...\u001b[0m\u001b[0;34m,\u001b[0m \u001b[0;32mNone\u001b[0m\u001b[0;34m]\u001b[0m\u001b[0;34m)\u001b[0m\u001b[0;34m)\u001b[0m\u001b[0;34m\u001b[0m\u001b[0;34m\u001b[0m\u001b[0m\n\u001b[0m\u001b[1;32m      6\u001b[0m \u001b[0;34m\u001b[0m\u001b[0m\n\u001b[1;32m      7\u001b[0m     \u001b[0;31m# `frame_masks` and `frame_features` are what we will feed to our sequence model.\u001b[0m\u001b[0;34m\u001b[0m\u001b[0;34m\u001b[0m\u001b[0m\n",
            "\u001b[0;31mAttributeError\u001b[0m: module 'keras' has no attribute 'ops'"
          ]
        }
      ],
      "source": [
        "\n",
        "def prepare_all_videos(df, root_dir):\n",
        "    num_samples = len(df)\n",
        "    video_paths = df[\"video_name\"].values.tolist()\n",
        "    labels = df[\"tag\"].values\n",
        "    labels = keras.ops.convert_to_numpy(label_processor(labels[..., None]))\n",
        "\n",
        "    # `frame_masks` and `frame_features` are what we will feed to our sequence model.\n",
        "    # `frame_masks` will contain a bunch of booleans denoting if a timestep is\n",
        "    # masked with padding or not.\n",
        "    frame_masks = np.zeros(shape=(num_samples, MAX_SEQ_LENGTH), dtype=\"bool\")\n",
        "    frame_features = np.zeros(\n",
        "        shape=(num_samples, MAX_SEQ_LENGTH, NUM_FEATURES), dtype=\"float32\"\n",
        "    )\n",
        "\n",
        "    # For each video.\n",
        "    for idx, path in enumerate(video_paths):\n",
        "        # Gather all its frames and add a batch dimension.\n",
        "        frames = load_video(os.path.join(root_dir, path))\n",
        "        frames = frames[None, ...]\n",
        "\n",
        "        # Initialize placeholders to store the masks and features of the current video.\n",
        "        temp_frame_mask = np.zeros(\n",
        "            shape=(\n",
        "                1,\n",
        "                MAX_SEQ_LENGTH,\n",
        "            ),\n",
        "            dtype=\"bool\",\n",
        "        )\n",
        "        temp_frame_features = np.zeros(\n",
        "            shape=(1, MAX_SEQ_LENGTH, NUM_FEATURES), dtype=\"float32\"\n",
        "        )\n",
        "\n",
        "        # Extract features from the frames of the current video.\n",
        "        for i, batch in enumerate(frames):\n",
        "            video_length = batch.shape[0]\n",
        "            length = min(MAX_SEQ_LENGTH, video_length)\n",
        "            for j in range(length):\n",
        "                temp_frame_features[i, j, :] = feature_extractor.predict(\n",
        "                    batch[None, j, :], verbose=0,\n",
        "                )\n",
        "            temp_frame_mask[i, :length] = 1  # 1 = not masked, 0 = masked\n",
        "\n",
        "        frame_features[idx,] = temp_frame_features.squeeze()\n",
        "        frame_masks[idx,] = temp_frame_mask.squeeze()\n",
        "\n",
        "    return (frame_features, frame_masks), labels\n",
        "\n",
        "\n",
        "train_data, train_labels = prepare_all_videos(train_df, \"train\")\n",
        "test_data, test_labels = prepare_all_videos(test_df, \"test\")\n",
        "\n",
        "print(f\"Frame features in train set: {train_data[0].shape}\")\n",
        "print(f\"Frame masks in train set: {train_data[1].shape}\")"
      ]
    },
    {
      "cell_type": "markdown",
      "metadata": {
        "id": "UTyuGIFywGKV"
      },
      "source": [
        "The above code block will take ~20 minutes to execute depending on the machine it's being\n",
        "executed."
      ]
    },
    {
      "cell_type": "code",
      "source": [
        "import pandas as pd\n",
        "import numpy as np\n",
        "import os\n",
        "import tensorflow as tf\n",
        "from tensorflow import keras\n",
        "\n",
        "# Define constants used in the script\n",
        "MAX_SEQ_LENGTH = 100  # Example value, adjust according to your needs\n",
        "NUM_FEATURES = 2048  # Example value, adjust according to your needs\n",
        "\n",
        "# Define the feature extractor function (replace this with your actual function)\n",
        "def feature_extractor(batch):\n",
        "    # This is a placeholder. Replace with your actual feature extraction logic.\n",
        "    return np.random.rand(1, NUM_FEATURES)\n",
        "\n",
        "# Define the load_video function (replace this with your actual function)\n",
        "def load_video(path):\n",
        "    # This is a placeholder. Replace with your actual video loading logic.\n",
        "    return np.random.rand(10, 224, 224, 3)  # Example video frames\n",
        "\n",
        "# Placeholder for label_processor function (replace this with your actual function)\n",
        "def label_processor(labels):\n",
        "    # This is a placeholder. Replace with your actual label processing logic.\n",
        "    return np.random.rand(len(labels), 1)\n",
        "\n",
        "# Load data into DataFrames\n",
        "train_df = pd.read_csv(r'train.csv')\n",
        "test_df = pd.read_csv(r'test.csv')\n",
        "\n",
        "def prepare_all_videos(df, root_dir):\n",
        "    num_samples = len(df)\n",
        "    video_paths = df[\"video_name\"].values.tolist()\n",
        "    labels = df[\"tag\"].values\n",
        "    labels = tf.convert_to_tensor(label_processor(labels[..., None]))\n",
        "\n",
        "    # frame_masks and frame_features are what we will feed to our sequence model.\n",
        "    frame_masks = np.zeros(shape=(num_samples, MAX_SEQ_LENGTH), dtype=bool)\n",
        "    frame_features = np.zeros(shape=(num_samples, MAX_SEQ_LENGTH, NUM_FEATURES), dtype=np.float32)\n",
        "\n",
        "    # For each video.\n",
        "    for idx, path in enumerate(video_paths):\n",
        "        # Gather all its frames and add a batch dimension.\n",
        "        frames = load_video(os.path.join(root_dir, path))\n",
        "        frames = frames[None, ...]\n",
        "\n",
        "        # Initialize placeholders to store the masks and features of the current video.\n",
        "        temp_frame_mask = np.zeros(shape=(1, MAX_SEQ_LENGTH), dtype=bool)\n",
        "        temp_frame_features = np.zeros(shape=(1, MAX_SEQ_LENGTH, NUM_FEATURES), dtype=np.float32)\n",
        "\n",
        "        # Extract features from the frames of the current video.\n",
        "        for i, batch in enumerate(frames):\n",
        "            video_length = batch.shape[0]\n",
        "            length = min(MAX_SEQ_LENGTH, video_length)\n",
        "            for j in range(length):\n",
        "                temp_frame_features[i, j, :] = feature_extractor(batch[None, j, :])\n",
        "            temp_frame_mask[i, :length] = 1  # 1 = not masked, 0 = masked\n",
        "\n",
        "        frame_features[idx] = temp_frame_features.squeeze()\n",
        "        frame_masks[idx] = temp_frame_mask.squeeze()\n",
        "\n",
        "    return (frame_features, frame_masks), labels\n",
        "\n",
        "# Prepare training and testing data\n",
        "train_data, train_labels = prepare_all_videos(train_df, \"train\")\n",
        "test_data, test_labels = prepare_all_videos(test_df, \"test\")\n",
        "\n",
        "print(f\"Frame features in train set: {train_data[0].shape}\")\n",
        "print(f\"Frame masks in train set: {train_data[1].shape}\")"
      ],
      "metadata": {
        "id": "FwOSaHV93Dn_",
        "outputId": "36c45cb1-cca9-4633-9377-dacdc88ac486",
        "colab": {
          "base_uri": "https://localhost:8080/"
        }
      },
      "execution_count": 12,
      "outputs": [
        {
          "output_type": "stream",
          "name": "stdout",
          "text": [
            "Frame features in train set: (594, 100, 2048)\n",
            "Frame masks in train set: (594, 100)\n"
          ]
        }
      ]
    },
    {
      "cell_type": "markdown",
      "metadata": {
        "id": "6cG-D_NYwGKV"
      },
      "source": [
        "## The sequence model\n",
        "\n",
        "Now, we can feed this data to a sequence model consisting of recurrent layers like `GRU`."
      ]
    },
    {
      "cell_type": "code",
      "execution_count": 13,
      "metadata": {
        "colab": {
          "base_uri": "https://localhost:8080/",
          "height": 321
        },
        "id": "brktBQJswGKV",
        "outputId": "fe680f37-ccfc-4a68-d608-880dfa74670a"
      },
      "outputs": [
        {
          "output_type": "error",
          "ename": "AttributeError",
          "evalue": "'function' object has no attribute 'get_vocabulary'",
          "traceback": [
            "\u001b[0;31m---------------------------------------------------------------------------\u001b[0m",
            "\u001b[0;31mAttributeError\u001b[0m                            Traceback (most recent call last)",
            "\u001b[0;32m<ipython-input-13-91e13564d431>\u001b[0m in \u001b[0;36m<cell line: 49>\u001b[0;34m()\u001b[0m\n\u001b[1;32m     47\u001b[0m \u001b[0;34m\u001b[0m\u001b[0m\n\u001b[1;32m     48\u001b[0m \u001b[0;34m\u001b[0m\u001b[0m\n\u001b[0;32m---> 49\u001b[0;31m \u001b[0m_\u001b[0m\u001b[0;34m,\u001b[0m \u001b[0msequence_model\u001b[0m \u001b[0;34m=\u001b[0m \u001b[0mrun_experiment\u001b[0m\u001b[0;34m(\u001b[0m\u001b[0;34m)\u001b[0m\u001b[0;34m\u001b[0m\u001b[0;34m\u001b[0m\u001b[0m\n\u001b[0m",
            "\u001b[0;32m<ipython-input-13-91e13564d431>\u001b[0m in \u001b[0;36mrun_experiment\u001b[0;34m()\u001b[0m\n\u001b[1;32m     31\u001b[0m     )\n\u001b[1;32m     32\u001b[0m \u001b[0;34m\u001b[0m\u001b[0m\n\u001b[0;32m---> 33\u001b[0;31m     \u001b[0mseq_model\u001b[0m \u001b[0;34m=\u001b[0m \u001b[0mget_sequence_model\u001b[0m\u001b[0;34m(\u001b[0m\u001b[0;34m)\u001b[0m\u001b[0;34m\u001b[0m\u001b[0;34m\u001b[0m\u001b[0m\n\u001b[0m\u001b[1;32m     34\u001b[0m     history = seq_model.fit(\n\u001b[1;32m     35\u001b[0m         \u001b[0;34m[\u001b[0m\u001b[0mtrain_data\u001b[0m\u001b[0;34m[\u001b[0m\u001b[0;36m0\u001b[0m\u001b[0;34m]\u001b[0m\u001b[0;34m,\u001b[0m \u001b[0mtrain_data\u001b[0m\u001b[0;34m[\u001b[0m\u001b[0;36m1\u001b[0m\u001b[0;34m]\u001b[0m\u001b[0;34m]\u001b[0m\u001b[0;34m,\u001b[0m\u001b[0;34m\u001b[0m\u001b[0;34m\u001b[0m\u001b[0m\n",
            "\u001b[0;32m<ipython-input-13-91e13564d431>\u001b[0m in \u001b[0;36mget_sequence_model\u001b[0;34m()\u001b[0m\n\u001b[1;32m      1\u001b[0m \u001b[0;31m# Utility for our sequence model.\u001b[0m\u001b[0;34m\u001b[0m\u001b[0;34m\u001b[0m\u001b[0m\n\u001b[1;32m      2\u001b[0m \u001b[0;32mdef\u001b[0m \u001b[0mget_sequence_model\u001b[0m\u001b[0;34m(\u001b[0m\u001b[0;34m)\u001b[0m\u001b[0;34m:\u001b[0m\u001b[0;34m\u001b[0m\u001b[0;34m\u001b[0m\u001b[0m\n\u001b[0;32m----> 3\u001b[0;31m     \u001b[0mclass_vocab\u001b[0m \u001b[0;34m=\u001b[0m \u001b[0mlabel_processor\u001b[0m\u001b[0;34m.\u001b[0m\u001b[0mget_vocabulary\u001b[0m\u001b[0;34m(\u001b[0m\u001b[0;34m)\u001b[0m\u001b[0;34m\u001b[0m\u001b[0;34m\u001b[0m\u001b[0m\n\u001b[0m\u001b[1;32m      4\u001b[0m \u001b[0;34m\u001b[0m\u001b[0m\n\u001b[1;32m      5\u001b[0m     \u001b[0mframe_features_input\u001b[0m \u001b[0;34m=\u001b[0m \u001b[0mkeras\u001b[0m\u001b[0;34m.\u001b[0m\u001b[0mInput\u001b[0m\u001b[0;34m(\u001b[0m\u001b[0;34m(\u001b[0m\u001b[0mMAX_SEQ_LENGTH\u001b[0m\u001b[0;34m,\u001b[0m \u001b[0mNUM_FEATURES\u001b[0m\u001b[0;34m)\u001b[0m\u001b[0;34m)\u001b[0m\u001b[0;34m\u001b[0m\u001b[0;34m\u001b[0m\u001b[0m\n",
            "\u001b[0;31mAttributeError\u001b[0m: 'function' object has no attribute 'get_vocabulary'"
          ]
        }
      ],
      "source": [
        "\n",
        "# Utility for our sequence model.\n",
        "def get_sequence_model():\n",
        "    class_vocab = label_processor.get_vocabulary()\n",
        "\n",
        "    frame_features_input = keras.Input((MAX_SEQ_LENGTH, NUM_FEATURES))\n",
        "    mask_input = keras.Input((MAX_SEQ_LENGTH,), dtype=\"bool\")\n",
        "\n",
        "    # Refer to the following tutorial to understand the significance of using `mask`:\n",
        "    # https://keras.io/api/layers/recurrent_layers/gru/\n",
        "    x = keras.layers.GRU(16, return_sequences=True)(\n",
        "        frame_features_input, mask=mask_input\n",
        "    )\n",
        "    x = keras.layers.GRU(8)(x)\n",
        "    x = keras.layers.Dropout(0.4)(x)\n",
        "    x = keras.layers.Dense(8, activation=\"relu\")(x)\n",
        "    output = keras.layers.Dense(len(class_vocab), activation=\"softmax\")(x)\n",
        "\n",
        "    rnn_model = keras.Model([frame_features_input, mask_input], output)\n",
        "\n",
        "    rnn_model.compile(\n",
        "        loss=\"sparse_categorical_crossentropy\", optimizer=\"adam\", metrics=[\"accuracy\"]\n",
        "    )\n",
        "    return rnn_model\n",
        "\n",
        "\n",
        "# Utility for running experiments.\n",
        "def run_experiment():\n",
        "    filepath = \"/tmp/video_classifier/ckpt.weights.h5\"\n",
        "    checkpoint = keras.callbacks.ModelCheckpoint(\n",
        "        filepath, save_weights_only=True, save_best_only=True, verbose=1\n",
        "    )\n",
        "\n",
        "    seq_model = get_sequence_model()\n",
        "    history = seq_model.fit(\n",
        "        [train_data[0], train_data[1]],\n",
        "        train_labels,\n",
        "        validation_split=0.3,\n",
        "        epochs=EPOCHS,\n",
        "        callbacks=[checkpoint],\n",
        "    )\n",
        "\n",
        "    seq_model.load_weights(filepath)\n",
        "    _, accuracy = seq_model.evaluate([test_data[0], test_data[1]], test_labels)\n",
        "    print(f\"Test accuracy: {round(accuracy * 100, 2)}%\")\n",
        "\n",
        "    return history, seq_model\n",
        "\n",
        "\n",
        "_, sequence_model = run_experiment()"
      ]
    },
    {
      "cell_type": "code",
      "source": [
        "import pandas as pd\n",
        "import numpy as np\n",
        "import os\n",
        "import tensorflow as tf\n",
        "from tensorflow import keras\n",
        "from sklearn.preprocessing import LabelEncoder\n",
        "\n",
        "# Define constants used in the script\n",
        "MAX_SEQ_LENGTH = 100  # Example value, adjust according to your needs\n",
        "NUM_FEATURES = 2048  # Example value, adjust according to your needs\n",
        "EPOCHS = 10  # Number of epochs for training\n",
        "\n",
        "# Define the feature extractor function (replace this with your actual function)\n",
        "def feature_extractor(batch):\n",
        "    # This is a placeholder. Replace with your actual feature extraction logic.\n",
        "    return np.random.rand(1, NUM_FEATURES)\n",
        "\n",
        "# Define the load_video function (replace this with your actual function)\n",
        "def load_video(path):\n",
        "    # This is a placeholder. Replace with your actual video loading logic.\n",
        "    return np.random.rand(10, 224, 224, 3)  # Example video frames\n",
        "\n",
        "# Placeholder for"
      ],
      "metadata": {
        "id": "wy5c2gnG3RVn"
      },
      "execution_count": 14,
      "outputs": []
    },
    {
      "cell_type": "markdown",
      "metadata": {
        "id": "V4ALmU9pwGKV"
      },
      "source": [
        "**Note**: To keep the runtime of this example relatively short, we just used a few\n",
        "training examples. This number of training examples is low with respect to the sequence\n",
        "model being used that has 99,909 trainable parameters. You are encouraged to sample more\n",
        "data from the UCF101 dataset using [the notebook](https://colab.research.google.com/github/sayakpaul/Action-Recognition-in-TensorFlow/blob/main/Data_Preparation_UCF101.ipynb) mentioned above and train the same model."
      ]
    },
    {
      "cell_type": "markdown",
      "metadata": {
        "id": "EmNZdBI9wGKV"
      },
      "source": [
        "## Inference"
      ]
    },
    {
      "cell_type": "code",
      "execution_count": 15,
      "metadata": {
        "colab": {
          "base_uri": "https://localhost:8080/",
          "height": 332
        },
        "id": "8m_5KFYlwGKV",
        "outputId": "7bb22e38-1e92-40bf-e3db-b32ca4dcb978"
      },
      "outputs": [
        {
          "output_type": "stream",
          "name": "stdout",
          "text": [
            "Test video path: v_TennisSwing_g02_c03.avi\n"
          ]
        },
        {
          "output_type": "error",
          "ename": "AttributeError",
          "evalue": "'function' object has no attribute 'get_vocabulary'",
          "traceback": [
            "\u001b[0;31m---------------------------------------------------------------------------\u001b[0m",
            "\u001b[0;31mAttributeError\u001b[0m                            Traceback (most recent call last)",
            "\u001b[0;32m<ipython-input-15-d79c506cc053>\u001b[0m in \u001b[0;36m<cell line: 45>\u001b[0;34m()\u001b[0m\n\u001b[1;32m     43\u001b[0m \u001b[0mtest_video\u001b[0m \u001b[0;34m=\u001b[0m \u001b[0mnp\u001b[0m\u001b[0;34m.\u001b[0m\u001b[0mrandom\u001b[0m\u001b[0;34m.\u001b[0m\u001b[0mchoice\u001b[0m\u001b[0;34m(\u001b[0m\u001b[0mtest_df\u001b[0m\u001b[0;34m[\u001b[0m\u001b[0;34m\"video_name\"\u001b[0m\u001b[0;34m]\u001b[0m\u001b[0;34m.\u001b[0m\u001b[0mvalues\u001b[0m\u001b[0;34m.\u001b[0m\u001b[0mtolist\u001b[0m\u001b[0;34m(\u001b[0m\u001b[0;34m)\u001b[0m\u001b[0;34m)\u001b[0m\u001b[0;34m\u001b[0m\u001b[0;34m\u001b[0m\u001b[0m\n\u001b[1;32m     44\u001b[0m \u001b[0mprint\u001b[0m\u001b[0;34m(\u001b[0m\u001b[0;34mf\"Test video path: {test_video}\"\u001b[0m\u001b[0;34m)\u001b[0m\u001b[0;34m\u001b[0m\u001b[0;34m\u001b[0m\u001b[0m\n\u001b[0;32m---> 45\u001b[0;31m \u001b[0mtest_frames\u001b[0m \u001b[0;34m=\u001b[0m \u001b[0msequence_prediction\u001b[0m\u001b[0;34m(\u001b[0m\u001b[0mtest_video\u001b[0m\u001b[0;34m)\u001b[0m\u001b[0;34m\u001b[0m\u001b[0;34m\u001b[0m\u001b[0m\n\u001b[0m\u001b[1;32m     46\u001b[0m \u001b[0mto_gif\u001b[0m\u001b[0;34m(\u001b[0m\u001b[0mtest_frames\u001b[0m\u001b[0;34m[\u001b[0m\u001b[0;34m:\u001b[0m\u001b[0mMAX_SEQ_LENGTH\u001b[0m\u001b[0;34m]\u001b[0m\u001b[0;34m)\u001b[0m\u001b[0;34m\u001b[0m\u001b[0;34m\u001b[0m\u001b[0m\n",
            "\u001b[0;32m<ipython-input-15-d79c506cc053>\u001b[0m in \u001b[0;36msequence_prediction\u001b[0;34m(path)\u001b[0m\n\u001b[1;32m     21\u001b[0m \u001b[0;34m\u001b[0m\u001b[0m\n\u001b[1;32m     22\u001b[0m \u001b[0;32mdef\u001b[0m \u001b[0msequence_prediction\u001b[0m\u001b[0;34m(\u001b[0m\u001b[0mpath\u001b[0m\u001b[0;34m)\u001b[0m\u001b[0;34m:\u001b[0m\u001b[0;34m\u001b[0m\u001b[0;34m\u001b[0m\u001b[0m\n\u001b[0;32m---> 23\u001b[0;31m     \u001b[0mclass_vocab\u001b[0m \u001b[0;34m=\u001b[0m \u001b[0mlabel_processor\u001b[0m\u001b[0;34m.\u001b[0m\u001b[0mget_vocabulary\u001b[0m\u001b[0;34m(\u001b[0m\u001b[0;34m)\u001b[0m\u001b[0;34m\u001b[0m\u001b[0;34m\u001b[0m\u001b[0m\n\u001b[0m\u001b[1;32m     24\u001b[0m \u001b[0;34m\u001b[0m\u001b[0m\n\u001b[1;32m     25\u001b[0m     \u001b[0mframes\u001b[0m \u001b[0;34m=\u001b[0m \u001b[0mload_video\u001b[0m\u001b[0;34m(\u001b[0m\u001b[0mos\u001b[0m\u001b[0;34m.\u001b[0m\u001b[0mpath\u001b[0m\u001b[0;34m.\u001b[0m\u001b[0mjoin\u001b[0m\u001b[0;34m(\u001b[0m\u001b[0;34m\"test\"\u001b[0m\u001b[0;34m,\u001b[0m \u001b[0mpath\u001b[0m\u001b[0;34m)\u001b[0m\u001b[0;34m)\u001b[0m\u001b[0;34m\u001b[0m\u001b[0;34m\u001b[0m\u001b[0m\n",
            "\u001b[0;31mAttributeError\u001b[0m: 'function' object has no attribute 'get_vocabulary'"
          ]
        }
      ],
      "source": [
        "\n",
        "def prepare_single_video(frames):\n",
        "    frames = frames[None, ...]\n",
        "    frame_mask = np.zeros(\n",
        "        shape=(\n",
        "            1,\n",
        "            MAX_SEQ_LENGTH,\n",
        "        ),\n",
        "        dtype=\"bool\",\n",
        "    )\n",
        "    frame_features = np.zeros(shape=(1, MAX_SEQ_LENGTH, NUM_FEATURES), dtype=\"float32\")\n",
        "\n",
        "    for i, batch in enumerate(frames):\n",
        "        video_length = batch.shape[0]\n",
        "        length = min(MAX_SEQ_LENGTH, video_length)\n",
        "        for j in range(length):\n",
        "            frame_features[i, j, :] = feature_extractor.predict(batch[None, j, :])\n",
        "        frame_mask[i, :length] = 1  # 1 = not masked, 0 = masked\n",
        "\n",
        "    return frame_features, frame_mask\n",
        "\n",
        "\n",
        "def sequence_prediction(path):\n",
        "    class_vocab = label_processor.get_vocabulary()\n",
        "\n",
        "    frames = load_video(os.path.join(\"test\", path))\n",
        "    frame_features, frame_mask = prepare_single_video(frames)\n",
        "    probabilities = sequence_model.predict([frame_features, frame_mask])[0]\n",
        "\n",
        "    for i in np.argsort(probabilities)[::-1]:\n",
        "        print(f\"  {class_vocab[i]}: {probabilities[i] * 100:5.2f}%\")\n",
        "    return frames\n",
        "\n",
        "\n",
        "# This utility is for visualization.\n",
        "# Referenced from:\n",
        "# https://www.tensorflow.org/hub/tutorials/action_recognition_with_tf_hub\n",
        "def to_gif(images):\n",
        "    converted_images = images.astype(np.uint8)\n",
        "    imageio.mimsave(\"animation.gif\", converted_images, duration=100)\n",
        "    return Image(\"animation.gif\")\n",
        "\n",
        "\n",
        "test_video = np.random.choice(test_df[\"video_name\"].values.tolist())\n",
        "print(f\"Test video path: {test_video}\")\n",
        "test_frames = sequence_prediction(test_video)\n",
        "to_gif(test_frames[:MAX_SEQ_LENGTH])"
      ]
    },
    {
      "cell_type": "code",
      "source": [
        "import pandas as pd\n",
        "import numpy as np\n",
        "import os\n",
        "import tensorflow as tf\n",
        "from tensorflow import keras\n",
        "from sklearn.preprocessing import LabelEncoder\n",
        "import imageio\n",
        "from IPython.display import Image\n",
        "\n",
        "# Define constants used in the script\n",
        "MAX_SEQ_LENGTH = 100  # Example value, adjust according to your needs\n",
        "NUM_FEATURES = 2048  # Example value, adjust according to your needs\n",
        "EPOCHS = 10  # Number of epochs for training\n",
        "\n",
        "# Define the feature extractor function (replace this with your actual function)\n",
        "def feature_extractor(batch):\n",
        "    # This is a placeholder. Replace with your actual feature extraction logic.\n",
        "    return np.random.rand(1, NUM_FEATURES)\n",
        "\n",
        "# Define the load_video function (replace this with your actual function)\n",
        "def load_video(path):\n",
        "    # This is a placeholder. Replace with your actual video loading logic.\n",
        "    return np.random.rand(10, 224, 224, 3)  # Example video frames\n",
        "\n",
        "# Define the label processing function to use LabelEncoder\n",
        "def label_processor(labels):\n",
        "    le = LabelEncoder()\n",
        "    le.fit(labels)\n",
        "    return le\n",
        "\n",
        "# Load data into DataFrames\n",
        "train_df = pd.read_csv(r'train.csv')\n",
        "test_df = pd.read_csv(r'test.csv')\n",
        "\n",
        "# Initialize the label processor and get the class vocabulary\n",
        "label_encoder = label_processor(train_df[\"tag\"].values)\n",
        "class_vocab = label_encoder.classes_\n",
        "\n",
        "def prepare_all_videos(df, root_dir):\n",
        "    num_samples = len(df)\n",
        "    video_paths = df[\"video_name\"].values.tolist()\n",
        "    labels = df[\"tag\"].values\n",
        "    labels = tf.convert_to_tensor(label_encoder.transform(labels))\n",
        "\n",
        "    # frame_masks and frame_features are what we will feed to our sequence model.\n",
        "    frame_masks = np.zeros(shape=(num_samples, MAX_SEQ_LENGTH), dtype=bool)\n",
        "    frame_features = np.zeros(shape=(num_samples, MAX_SEQ_LENGTH, NUM_FEATURES), dtype=np.float32)\n",
        "\n",
        "    # For each video.\n",
        "    for idx, path in enumerate(video_paths):\n",
        "        # Gather all its frames and add a batch dimension.\n",
        "        frames = load_video(os.path.join(root_dir, path))\n",
        "        frames = frames[None, ...]\n",
        "\n",
        "        # Initialize placeholders to store the masks and features of the current video.\n",
        "        temp_frame_mask = np.zeros(shape=(1, MAX_SEQ_LENGTH), dtype=bool)\n",
        "        temp_frame_features = np.zeros(shape=(1, MAX_SEQ_LENGTH, NUM_FEATURES), dtype=np.float32)\n",
        "\n",
        "        # Extract features from the frames of the current video.\n",
        "        for i, batch in enumerate(frames):\n",
        "            video_length = batch.shape[0]\n",
        "            length = min(MAX_SEQ_LENGTH, video_length)\n",
        "            for j in range(length):\n",
        "                temp_frame_features[i, j, :] = feature_extractor(batch[None, j, :])\n",
        "            temp_frame_mask[i, :length] = 1  # 1 = not masked, 0 = masked\n",
        "\n",
        "        frame_features[idx] = temp_frame_features.squeeze()\n",
        "        frame_masks[idx] = temp_frame_mask.squeeze()\n",
        "\n",
        "    return (frame_features, frame_masks), labels\n",
        "\n",
        "# Prepare training and testing data\n",
        "train_data, train_labels = prepare_all_videos(train_df, \"train\")\n",
        "test_data, test_labels = prepare_all_videos(test_df, \"test\")\n",
        "\n",
        "def get_sequence_model(num_classes):\n",
        "    frame_features_input = keras.Input"
      ],
      "metadata": {
        "id": "2HG05xuU4KQy"
      },
      "execution_count": 18,
      "outputs": []
    },
    {
      "cell_type": "markdown",
      "metadata": {
        "id": "AWhP2ZsTwGKV"
      },
      "source": [
        "## Next steps\n",
        "\n",
        "* In this example, we made use of transfer learning for extracting meaningful features\n",
        "from video frames. You could also fine-tune the pre-trained network to notice how that\n",
        "affects the end results.\n",
        "* For speed-accuracy trade-offs, you can try out other models present inside\n",
        "`keras.applications`.\n",
        "* Try different combinations of `MAX_SEQ_LENGTH` to observe how that affects the\n",
        "performance.\n",
        "* Train on a higher number of classes and see if you are able to get good performance.\n",
        "* Following [this tutorial](https://www.tensorflow.org/hub/tutorials/action_recognition_with_tf_hub), try a\n",
        "[pre-trained action recognition model](https://arxiv.org/abs/1705.07750) from DeepMind.\n",
        "* Rolling-averaging can be useful technique for video classification and it can be\n",
        "combined with a standard image classification model to infer on videos.\n",
        "[This tutorial](https://www.pyimagesearch.com/2019/07/15/video-classification-with-keras-and-deep-learning/)\n",
        "will help understand how to use rolling-averaging with an image classifier.\n",
        "* When there are variations in between the frames of a video not all the frames might be\n",
        "equally important to decide its category. In those situations, putting a\n",
        "[self-attention layer](https://www.tensorflow.org/api_docs/python/tf/keras/layers/Attention) in the\n",
        "sequence model will likely yield better results.\n",
        "* Following [this book chapter](https://livebook.manning.com/book/deep-learning-with-python-second-edition/chapter-11),\n",
        "you can implement Transformers-based models for processing videos."
      ]
    }
  ],
  "metadata": {
    "accelerator": "GPU",
    "colab": {
      "name": "video_classification",
      "provenance": [],
      "toc_visible": true
    },
    "kernelspec": {
      "display_name": "Python 3",
      "language": "python",
      "name": "python3"
    },
    "language_info": {
      "codemirror_mode": {
        "name": "ipython",
        "version": 3
      },
      "file_extension": ".py",
      "mimetype": "text/x-python",
      "name": "python",
      "nbconvert_exporter": "python",
      "pygments_lexer": "ipython3",
      "version": "3.7.0"
    }
  },
  "nbformat": 4,
  "nbformat_minor": 0
}